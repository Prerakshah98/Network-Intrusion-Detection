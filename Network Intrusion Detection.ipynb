{
 "cells": [
  {
   "cell_type": "code",
   "execution_count": 1,
   "metadata": {},
   "outputs": [],
   "source": [
    "import collections\n",
    "from sklearn import preprocessing\n",
    "import matplotlib.pyplot as plt\n",
    "import numpy as np\n",
    "import pandas as pd\n",
    "import shutil\n",
    "import os\n",
    "from sklearn import metrics\n",
    "from sklearn.metrics import roc_curve, auc\n",
    "%matplotlib inline\n",
    "\n",
    "\n",
    "# Encode text values to dummy variables(i.e. [1,0,0],[0,1,0],[0,0,1] for red,green,blue)\n",
    "def encode_text_dummy(df, name):\n",
    "    dummies = pd.get_dummies(df[name])\n",
    "    for x in dummies.columns:\n",
    "        dummy_name = \"{}-{}\".format(name, x)\n",
    "        df[dummy_name] = dummies[x]\n",
    "    df.drop(name, axis=1, inplace=True)\n",
    "\n",
    "\n",
    "\n",
    "# Encode text values to indexes(i.e. [1],[2],[3] for red,green,blue).\n",
    "def encode_text_index(df, name):\n",
    "    le = preprocessing.LabelEncoder()\n",
    "    df[name] = le.fit_transform(df[name])\n",
    "    return le.classes_\n",
    "\n",
    "\n",
    "# Encode a numeric column as zscores\n",
    "def encode_numeric_zscore(df, name, mean=None, sd=None):\n",
    "    if mean is None:\n",
    "        mean = df[name].mean()\n",
    "\n",
    "    if sd is None:\n",
    "        sd = df[name].std()\n",
    "\n",
    "    df[name] = (df[name] - mean) / sd\n",
    "\n",
    "\n",
    "# Convert all missing values in the specified column to the median\n",
    "def missing_median(df, name):\n",
    "    med = df[name].median()\n",
    "    df[name] = df[name].fillna(med)\n",
    "\n",
    "\n",
    "# Convert all missing values in the specified column to the default\n",
    "def missing_default(df, name, default_value):\n",
    "    df[name] = df[name].fillna(default_value)\n",
    "\n",
    "\n",
    "# Convert a Pandas dataframe to the x,y inputs that TensorFlow needs\n",
    "def to_xy(df, target):\n",
    "    result = []\n",
    "    for x in df.columns:\n",
    "        if x != target:\n",
    "            result.append(x)\n",
    "    # find out the type of the target column. \n",
    "    target_type = df[target].dtypes\n",
    "    target_type = target_type[0] if isinstance(target_type, Sequence) else target_type\n",
    "    # Encode to int for classification, float otherwise. TensorFlow likes 32 bits.\n",
    "    if target_type in (np.int64, np.int32):\n",
    "        # Classification\n",
    "        dummies = pd.get_dummies(df[target])\n",
    "        return df[result].values.astype(np.float32), dummies.values.astype(np.float32)\n",
    "    else:\n",
    "        # Regression\n",
    "        return df[result].values.astype(np.float32), df[target].values.astype(np.float32)\n",
    "\n",
    "# Nicely formatted time string\n",
    "def hms_string(sec_elapsed):\n",
    "    h = int(sec_elapsed / (60 * 60))\n",
    "    m = int((sec_elapsed % (60 * 60)) / 60)\n",
    "    s = sec_elapsed % 60\n",
    "    return \"{}:{:>02}:{:>05.2f}\".format(h, m, s)\n",
    "\n",
    "\n",
    "# Regression chart.\n",
    "def chart_regression(pred,y,sort=True):\n",
    "    t = pd.DataFrame({'pred' : pred, 'y' : y.flatten()})\n",
    "    if sort:\n",
    "        t.sort_values(by=['y'],inplace=True)\n",
    "    a = plt.plot(t['y'].tolist(),label='expected')\n",
    "    b = plt.plot(t['pred'].tolist(),label='prediction')\n",
    "    plt.ylabel('output')\n",
    "    plt.legend()\n",
    "    plt.show()\n",
    "\n",
    "# Remove all rows where the specified column is +/- sd standard deviations\n",
    "def remove_outliers(df, name, sd):\n",
    "    drop_rows = df.index[(np.abs(df[name] - df[name].mean()) >= (sd * df[name].std()))]\n",
    "    df.drop(drop_rows, axis=0, inplace=True)\n",
    "\n",
    "\n",
    "# Encode a column to a range between normalized_low and normalized_high.\n",
    "def encode_numeric_range(df, name, normalized_low=-1, normalized_high=1,\n",
    "                         data_low=None, data_high=None):\n",
    "    if data_low is None:\n",
    "        data_low = min(df[name])\n",
    "        data_high = max(df[name])\n",
    "\n",
    "    df[name] = ((df[name] - data_low) / (data_high - data_low)) \\\n",
    "               * (normalized_high - normalized_low) + normalized_low\n",
    "    \n",
    "    \n",
    "# Plot a confusion matrix.\n",
    "# cm is the confusion matrix, names are the names of the classes.\n",
    "def plot_confusion_matrix(cm, names, title='Confusion matrix', cmap=plt.cm.Blues):\n",
    "    plt.figure()\n",
    "    plt.imshow(cm, interpolation='nearest', cmap=cmap)\n",
    "    plt.title(title)\n",
    "    plt.colorbar()\n",
    "    tick_marks = np.arange(len(names))\n",
    "    plt.xticks(tick_marks, names, rotation=45)\n",
    "    plt.yticks(tick_marks, names)\n",
    "    plt.tight_layout()\n",
    "    plt.ylabel('True label')\n",
    "    plt.xlabel('Predicted label')\n",
    "    plt.show()\n",
    "    \n",
    "\n",
    "# Plot an ROC. pred - the predictions, y - the expected output.\n",
    "def plot_roc(pred,y):\n",
    "    fpr, tpr, thresholds = roc_curve(y, pred)\n",
    "    roc_auc = auc(fpr, tpr)\n",
    "\n",
    "    plt.figure()\n",
    "    plt.plot(fpr, tpr, label='ROC curve (area = %0.2f)' % roc_auc)\n",
    "    plt.plot([0, 1], [0, 1], 'k--')\n",
    "    plt.xlim([0.0, 1.0])\n",
    "    plt.ylim([0.0, 1.05])\n",
    "    plt.xlabel('False Positive Rate')\n",
    "    plt.ylabel('True Positive Rate')\n",
    "    plt.title('Receiver Operating Characteristic (ROC)')\n",
    "    plt.legend(loc=\"lower right\")\n",
    "    plt.show()"
   ]
  },
  {
   "cell_type": "code",
   "execution_count": 2,
   "metadata": {},
   "outputs": [],
   "source": [
    "data_f = pd.read_csv(\"df.csv\",na_values=['na','-'])"
   ]
  },
  {
   "cell_type": "code",
   "execution_count": 3,
   "metadata": {},
   "outputs": [
    {
     "data": {
      "text/html": [
       "<div>\n",
       "<style scoped>\n",
       "    .dataframe tbody tr th:only-of-type {\n",
       "        vertical-align: middle;\n",
       "    }\n",
       "\n",
       "    .dataframe tbody tr th {\n",
       "        vertical-align: top;\n",
       "    }\n",
       "\n",
       "    .dataframe thead th {\n",
       "        text-align: right;\n",
       "    }\n",
       "</style>\n",
       "<table border=\"1\" class=\"dataframe\">\n",
       "  <thead>\n",
       "    <tr style=\"text-align: right;\">\n",
       "      <th></th>\n",
       "      <th>id</th>\n",
       "      <th>dur</th>\n",
       "      <th>proto</th>\n",
       "      <th>service</th>\n",
       "      <th>state</th>\n",
       "      <th>spkts</th>\n",
       "      <th>dpkts</th>\n",
       "      <th>sbytes</th>\n",
       "      <th>dbytes</th>\n",
       "      <th>rate</th>\n",
       "      <th>...</th>\n",
       "      <th>ct_dst_sport_ltm</th>\n",
       "      <th>ct_dst_src_ltm</th>\n",
       "      <th>is_ftp_login</th>\n",
       "      <th>ct_ftp_cmd</th>\n",
       "      <th>ct_flw_http_mthd</th>\n",
       "      <th>ct_src_ltm</th>\n",
       "      <th>ct_srv_dst</th>\n",
       "      <th>is_sm_ips_ports</th>\n",
       "      <th>attack_cat</th>\n",
       "      <th>label</th>\n",
       "    </tr>\n",
       "  </thead>\n",
       "  <tbody>\n",
       "    <tr>\n",
       "      <td>0</td>\n",
       "      <td>1</td>\n",
       "      <td>0.121478</td>\n",
       "      <td>tcp</td>\n",
       "      <td>NaN</td>\n",
       "      <td>FIN</td>\n",
       "      <td>6</td>\n",
       "      <td>4</td>\n",
       "      <td>258</td>\n",
       "      <td>172</td>\n",
       "      <td>74.087490</td>\n",
       "      <td>...</td>\n",
       "      <td>1</td>\n",
       "      <td>1</td>\n",
       "      <td>0</td>\n",
       "      <td>0</td>\n",
       "      <td>0</td>\n",
       "      <td>1</td>\n",
       "      <td>1</td>\n",
       "      <td>0</td>\n",
       "      <td>Normal</td>\n",
       "      <td>0</td>\n",
       "    </tr>\n",
       "    <tr>\n",
       "      <td>1</td>\n",
       "      <td>2</td>\n",
       "      <td>0.649902</td>\n",
       "      <td>tcp</td>\n",
       "      <td>NaN</td>\n",
       "      <td>FIN</td>\n",
       "      <td>14</td>\n",
       "      <td>38</td>\n",
       "      <td>734</td>\n",
       "      <td>42014</td>\n",
       "      <td>78.473372</td>\n",
       "      <td>...</td>\n",
       "      <td>1</td>\n",
       "      <td>2</td>\n",
       "      <td>0</td>\n",
       "      <td>0</td>\n",
       "      <td>0</td>\n",
       "      <td>1</td>\n",
       "      <td>6</td>\n",
       "      <td>0</td>\n",
       "      <td>Normal</td>\n",
       "      <td>0</td>\n",
       "    </tr>\n",
       "    <tr>\n",
       "      <td>2</td>\n",
       "      <td>3</td>\n",
       "      <td>1.623129</td>\n",
       "      <td>tcp</td>\n",
       "      <td>NaN</td>\n",
       "      <td>FIN</td>\n",
       "      <td>8</td>\n",
       "      <td>16</td>\n",
       "      <td>364</td>\n",
       "      <td>13186</td>\n",
       "      <td>14.170161</td>\n",
       "      <td>...</td>\n",
       "      <td>1</td>\n",
       "      <td>3</td>\n",
       "      <td>0</td>\n",
       "      <td>0</td>\n",
       "      <td>0</td>\n",
       "      <td>2</td>\n",
       "      <td>6</td>\n",
       "      <td>0</td>\n",
       "      <td>Normal</td>\n",
       "      <td>0</td>\n",
       "    </tr>\n",
       "    <tr>\n",
       "      <td>3</td>\n",
       "      <td>4</td>\n",
       "      <td>1.681642</td>\n",
       "      <td>tcp</td>\n",
       "      <td>ftp</td>\n",
       "      <td>FIN</td>\n",
       "      <td>12</td>\n",
       "      <td>12</td>\n",
       "      <td>628</td>\n",
       "      <td>770</td>\n",
       "      <td>13.677108</td>\n",
       "      <td>...</td>\n",
       "      <td>1</td>\n",
       "      <td>3</td>\n",
       "      <td>1</td>\n",
       "      <td>1</td>\n",
       "      <td>0</td>\n",
       "      <td>2</td>\n",
       "      <td>1</td>\n",
       "      <td>0</td>\n",
       "      <td>Normal</td>\n",
       "      <td>0</td>\n",
       "    </tr>\n",
       "    <tr>\n",
       "      <td>4</td>\n",
       "      <td>5</td>\n",
       "      <td>0.449454</td>\n",
       "      <td>tcp</td>\n",
       "      <td>NaN</td>\n",
       "      <td>FIN</td>\n",
       "      <td>10</td>\n",
       "      <td>6</td>\n",
       "      <td>534</td>\n",
       "      <td>268</td>\n",
       "      <td>33.373826</td>\n",
       "      <td>...</td>\n",
       "      <td>1</td>\n",
       "      <td>40</td>\n",
       "      <td>0</td>\n",
       "      <td>0</td>\n",
       "      <td>0</td>\n",
       "      <td>2</td>\n",
       "      <td>39</td>\n",
       "      <td>0</td>\n",
       "      <td>Normal</td>\n",
       "      <td>0</td>\n",
       "    </tr>\n",
       "  </tbody>\n",
       "</table>\n",
       "<p>5 rows × 45 columns</p>\n",
       "</div>"
      ],
      "text/plain": [
       "   id       dur proto service state  spkts  dpkts  sbytes  dbytes       rate  \\\n",
       "0   1  0.121478   tcp     NaN   FIN      6      4     258     172  74.087490   \n",
       "1   2  0.649902   tcp     NaN   FIN     14     38     734   42014  78.473372   \n",
       "2   3  1.623129   tcp     NaN   FIN      8     16     364   13186  14.170161   \n",
       "3   4  1.681642   tcp     ftp   FIN     12     12     628     770  13.677108   \n",
       "4   5  0.449454   tcp     NaN   FIN     10      6     534     268  33.373826   \n",
       "\n",
       "   ...  ct_dst_sport_ltm  ct_dst_src_ltm  is_ftp_login  ct_ftp_cmd  \\\n",
       "0  ...                 1               1             0           0   \n",
       "1  ...                 1               2             0           0   \n",
       "2  ...                 1               3             0           0   \n",
       "3  ...                 1               3             1           1   \n",
       "4  ...                 1              40             0           0   \n",
       "\n",
       "   ct_flw_http_mthd  ct_src_ltm  ct_srv_dst  is_sm_ips_ports  attack_cat  \\\n",
       "0                 0           1           1                0      Normal   \n",
       "1                 0           1           6                0      Normal   \n",
       "2                 0           2           6                0      Normal   \n",
       "3                 0           2           1                0      Normal   \n",
       "4                 0           2          39                0      Normal   \n",
       "\n",
       "   label  \n",
       "0      0  \n",
       "1      0  \n",
       "2      0  \n",
       "3      0  \n",
       "4      0  \n",
       "\n",
       "[5 rows x 45 columns]"
      ]
     },
     "execution_count": 3,
     "metadata": {},
     "output_type": "execute_result"
    }
   ],
   "source": [
    "data_f.head()"
   ]
  },
  {
   "cell_type": "code",
   "execution_count": 4,
   "metadata": {},
   "outputs": [],
   "source": [
    "data_f.drop(labels=['id'],axis=1,inplace=True)\n",
    "data_f.dropna(axis=0,inplace=True)"
   ]
  },
  {
   "cell_type": "code",
   "execution_count": 5,
   "metadata": {},
   "outputs": [
    {
     "data": {
      "text/html": [
       "<div>\n",
       "<style scoped>\n",
       "    .dataframe tbody tr th:only-of-type {\n",
       "        vertical-align: middle;\n",
       "    }\n",
       "\n",
       "    .dataframe tbody tr th {\n",
       "        vertical-align: top;\n",
       "    }\n",
       "\n",
       "    .dataframe thead th {\n",
       "        text-align: right;\n",
       "    }\n",
       "</style>\n",
       "<table border=\"1\" class=\"dataframe\">\n",
       "  <thead>\n",
       "    <tr style=\"text-align: right;\">\n",
       "      <th></th>\n",
       "      <th>dur</th>\n",
       "      <th>proto</th>\n",
       "      <th>service</th>\n",
       "      <th>state</th>\n",
       "      <th>spkts</th>\n",
       "      <th>dpkts</th>\n",
       "      <th>sbytes</th>\n",
       "      <th>dbytes</th>\n",
       "      <th>rate</th>\n",
       "      <th>sttl</th>\n",
       "      <th>...</th>\n",
       "      <th>ct_dst_sport_ltm</th>\n",
       "      <th>ct_dst_src_ltm</th>\n",
       "      <th>is_ftp_login</th>\n",
       "      <th>ct_ftp_cmd</th>\n",
       "      <th>ct_flw_http_mthd</th>\n",
       "      <th>ct_src_ltm</th>\n",
       "      <th>ct_srv_dst</th>\n",
       "      <th>is_sm_ips_ports</th>\n",
       "      <th>attack_cat</th>\n",
       "      <th>label</th>\n",
       "    </tr>\n",
       "  </thead>\n",
       "  <tbody>\n",
       "    <tr>\n",
       "      <td>3</td>\n",
       "      <td>1.681642</td>\n",
       "      <td>tcp</td>\n",
       "      <td>ftp</td>\n",
       "      <td>FIN</td>\n",
       "      <td>12</td>\n",
       "      <td>12</td>\n",
       "      <td>628</td>\n",
       "      <td>770</td>\n",
       "      <td>13.677108</td>\n",
       "      <td>62</td>\n",
       "      <td>...</td>\n",
       "      <td>1</td>\n",
       "      <td>3</td>\n",
       "      <td>1</td>\n",
       "      <td>1</td>\n",
       "      <td>0</td>\n",
       "      <td>2</td>\n",
       "      <td>1</td>\n",
       "      <td>0</td>\n",
       "      <td>Normal</td>\n",
       "      <td>0</td>\n",
       "    </tr>\n",
       "    <tr>\n",
       "      <td>11</td>\n",
       "      <td>2.093085</td>\n",
       "      <td>tcp</td>\n",
       "      <td>smtp</td>\n",
       "      <td>FIN</td>\n",
       "      <td>62</td>\n",
       "      <td>28</td>\n",
       "      <td>56329</td>\n",
       "      <td>2212</td>\n",
       "      <td>42.520967</td>\n",
       "      <td>62</td>\n",
       "      <td>...</td>\n",
       "      <td>1</td>\n",
       "      <td>2</td>\n",
       "      <td>0</td>\n",
       "      <td>0</td>\n",
       "      <td>0</td>\n",
       "      <td>1</td>\n",
       "      <td>1</td>\n",
       "      <td>0</td>\n",
       "      <td>Normal</td>\n",
       "      <td>0</td>\n",
       "    </tr>\n",
       "    <tr>\n",
       "      <td>15</td>\n",
       "      <td>0.000002</td>\n",
       "      <td>udp</td>\n",
       "      <td>snmp</td>\n",
       "      <td>INT</td>\n",
       "      <td>2</td>\n",
       "      <td>0</td>\n",
       "      <td>138</td>\n",
       "      <td>0</td>\n",
       "      <td>500000.001300</td>\n",
       "      <td>254</td>\n",
       "      <td>...</td>\n",
       "      <td>1</td>\n",
       "      <td>4</td>\n",
       "      <td>0</td>\n",
       "      <td>0</td>\n",
       "      <td>0</td>\n",
       "      <td>2</td>\n",
       "      <td>1</td>\n",
       "      <td>0</td>\n",
       "      <td>Normal</td>\n",
       "      <td>0</td>\n",
       "    </tr>\n",
       "    <tr>\n",
       "      <td>17</td>\n",
       "      <td>0.393556</td>\n",
       "      <td>tcp</td>\n",
       "      <td>http</td>\n",
       "      <td>FIN</td>\n",
       "      <td>10</td>\n",
       "      <td>8</td>\n",
       "      <td>860</td>\n",
       "      <td>1096</td>\n",
       "      <td>43.195886</td>\n",
       "      <td>62</td>\n",
       "      <td>...</td>\n",
       "      <td>1</td>\n",
       "      <td>2</td>\n",
       "      <td>0</td>\n",
       "      <td>0</td>\n",
       "      <td>1</td>\n",
       "      <td>1</td>\n",
       "      <td>3</td>\n",
       "      <td>0</td>\n",
       "      <td>Normal</td>\n",
       "      <td>0</td>\n",
       "    </tr>\n",
       "    <tr>\n",
       "      <td>21</td>\n",
       "      <td>0.338017</td>\n",
       "      <td>tcp</td>\n",
       "      <td>http</td>\n",
       "      <td>FIN</td>\n",
       "      <td>10</td>\n",
       "      <td>6</td>\n",
       "      <td>998</td>\n",
       "      <td>268</td>\n",
       "      <td>44.376468</td>\n",
       "      <td>254</td>\n",
       "      <td>...</td>\n",
       "      <td>1</td>\n",
       "      <td>1</td>\n",
       "      <td>0</td>\n",
       "      <td>0</td>\n",
       "      <td>1</td>\n",
       "      <td>2</td>\n",
       "      <td>3</td>\n",
       "      <td>0</td>\n",
       "      <td>Normal</td>\n",
       "      <td>0</td>\n",
       "    </tr>\n",
       "  </tbody>\n",
       "</table>\n",
       "<p>5 rows × 44 columns</p>\n",
       "</div>"
      ],
      "text/plain": [
       "         dur proto service state  spkts  dpkts  sbytes  dbytes           rate  \\\n",
       "3   1.681642   tcp     ftp   FIN     12     12     628     770      13.677108   \n",
       "11  2.093085   tcp    smtp   FIN     62     28   56329    2212      42.520967   \n",
       "15  0.000002   udp    snmp   INT      2      0     138       0  500000.001300   \n",
       "17  0.393556   tcp    http   FIN     10      8     860    1096      43.195886   \n",
       "21  0.338017   tcp    http   FIN     10      6     998     268      44.376468   \n",
       "\n",
       "    sttl  ...  ct_dst_sport_ltm  ct_dst_src_ltm  is_ftp_login  ct_ftp_cmd  \\\n",
       "3     62  ...                 1               3             1           1   \n",
       "11    62  ...                 1               2             0           0   \n",
       "15   254  ...                 1               4             0           0   \n",
       "17    62  ...                 1               2             0           0   \n",
       "21   254  ...                 1               1             0           0   \n",
       "\n",
       "    ct_flw_http_mthd  ct_src_ltm  ct_srv_dst  is_sm_ips_ports  attack_cat  \\\n",
       "3                  0           2           1                0      Normal   \n",
       "11                 0           1           1                0      Normal   \n",
       "15                 0           2           1                0      Normal   \n",
       "17                 1           1           3                0      Normal   \n",
       "21                 1           2           3                0      Normal   \n",
       "\n",
       "    label  \n",
       "3       0  \n",
       "11      0  \n",
       "15      0  \n",
       "17      0  \n",
       "21      0  \n",
       "\n",
       "[5 rows x 44 columns]"
      ]
     },
     "execution_count": 5,
     "metadata": {},
     "output_type": "execute_result"
    }
   ],
   "source": [
    "data_f.head()"
   ]
  },
  {
   "cell_type": "code",
   "execution_count": 6,
   "metadata": {},
   "outputs": [
    {
     "data": {
      "text/plain": [
       "(116352, 44)"
      ]
     },
     "execution_count": 6,
     "metadata": {},
     "output_type": "execute_result"
    }
   ],
   "source": [
    "data_f.shape"
   ]
  },
  {
   "cell_type": "markdown",
   "metadata": {},
   "source": [
    "# Data Preprocessing"
   ]
  },
  {
   "cell_type": "code",
   "execution_count": 7,
   "metadata": {},
   "outputs": [],
   "source": [
    "encode_text_dummy(data_f,'service')\n",
    "encode_text_dummy(data_f,'proto')\n",
    "encode_text_dummy(data_f,'state')\n",
    "encode_text_dummy(data_f,'attack_cat')"
   ]
  },
  {
   "cell_type": "code",
   "execution_count": 8,
   "metadata": {},
   "outputs": [
    {
     "data": {
      "text/plain": [
       "(116352, 69)"
      ]
     },
     "execution_count": 8,
     "metadata": {},
     "output_type": "execute_result"
    }
   ],
   "source": [
    "data_f.shape"
   ]
  },
  {
   "cell_type": "code",
   "execution_count": 9,
   "metadata": {},
   "outputs": [],
   "source": [
    "x = data_f.drop(['label'], axis = 1, inplace=False)\n",
    "y = data_f.loc[:,'label']"
   ]
  },
  {
   "cell_type": "code",
   "execution_count": 10,
   "metadata": {},
   "outputs": [
    {
     "data": {
      "text/html": [
       "<div>\n",
       "<style scoped>\n",
       "    .dataframe tbody tr th:only-of-type {\n",
       "        vertical-align: middle;\n",
       "    }\n",
       "\n",
       "    .dataframe tbody tr th {\n",
       "        vertical-align: top;\n",
       "    }\n",
       "\n",
       "    .dataframe thead th {\n",
       "        text-align: right;\n",
       "    }\n",
       "</style>\n",
       "<table border=\"1\" class=\"dataframe\">\n",
       "  <thead>\n",
       "    <tr style=\"text-align: right;\">\n",
       "      <th></th>\n",
       "      <th>dur</th>\n",
       "      <th>spkts</th>\n",
       "      <th>dpkts</th>\n",
       "      <th>sbytes</th>\n",
       "      <th>dbytes</th>\n",
       "      <th>rate</th>\n",
       "      <th>sttl</th>\n",
       "      <th>dttl</th>\n",
       "      <th>sload</th>\n",
       "      <th>dload</th>\n",
       "      <th>...</th>\n",
       "      <th>state-RST</th>\n",
       "      <th>attack_cat-Analysis</th>\n",
       "      <th>attack_cat-Backdoor</th>\n",
       "      <th>attack_cat-DoS</th>\n",
       "      <th>attack_cat-Exploits</th>\n",
       "      <th>attack_cat-Fuzzers</th>\n",
       "      <th>attack_cat-Generic</th>\n",
       "      <th>attack_cat-Normal</th>\n",
       "      <th>attack_cat-Reconnaissance</th>\n",
       "      <th>attack_cat-Worms</th>\n",
       "    </tr>\n",
       "  </thead>\n",
       "  <tbody>\n",
       "    <tr>\n",
       "      <td>3</td>\n",
       "      <td>1.681642</td>\n",
       "      <td>12</td>\n",
       "      <td>12</td>\n",
       "      <td>628</td>\n",
       "      <td>770</td>\n",
       "      <td>13.677108</td>\n",
       "      <td>62</td>\n",
       "      <td>252</td>\n",
       "      <td>2.740179e+03</td>\n",
       "      <td>3358.622070</td>\n",
       "      <td>...</td>\n",
       "      <td>0</td>\n",
       "      <td>0</td>\n",
       "      <td>0</td>\n",
       "      <td>0</td>\n",
       "      <td>0</td>\n",
       "      <td>0</td>\n",
       "      <td>0</td>\n",
       "      <td>1</td>\n",
       "      <td>0</td>\n",
       "      <td>0</td>\n",
       "    </tr>\n",
       "    <tr>\n",
       "      <td>11</td>\n",
       "      <td>2.093085</td>\n",
       "      <td>62</td>\n",
       "      <td>28</td>\n",
       "      <td>56329</td>\n",
       "      <td>2212</td>\n",
       "      <td>42.520967</td>\n",
       "      <td>62</td>\n",
       "      <td>252</td>\n",
       "      <td>2.118251e+05</td>\n",
       "      <td>8152.559082</td>\n",
       "      <td>...</td>\n",
       "      <td>0</td>\n",
       "      <td>0</td>\n",
       "      <td>0</td>\n",
       "      <td>0</td>\n",
       "      <td>0</td>\n",
       "      <td>0</td>\n",
       "      <td>0</td>\n",
       "      <td>1</td>\n",
       "      <td>0</td>\n",
       "      <td>0</td>\n",
       "    </tr>\n",
       "    <tr>\n",
       "      <td>15</td>\n",
       "      <td>0.000002</td>\n",
       "      <td>2</td>\n",
       "      <td>0</td>\n",
       "      <td>138</td>\n",
       "      <td>0</td>\n",
       "      <td>500000.001300</td>\n",
       "      <td>254</td>\n",
       "      <td>0</td>\n",
       "      <td>2.760000e+08</td>\n",
       "      <td>0.000000</td>\n",
       "      <td>...</td>\n",
       "      <td>0</td>\n",
       "      <td>0</td>\n",
       "      <td>0</td>\n",
       "      <td>0</td>\n",
       "      <td>0</td>\n",
       "      <td>0</td>\n",
       "      <td>0</td>\n",
       "      <td>1</td>\n",
       "      <td>0</td>\n",
       "      <td>0</td>\n",
       "    </tr>\n",
       "    <tr>\n",
       "      <td>17</td>\n",
       "      <td>0.393556</td>\n",
       "      <td>10</td>\n",
       "      <td>8</td>\n",
       "      <td>860</td>\n",
       "      <td>1096</td>\n",
       "      <td>43.195886</td>\n",
       "      <td>62</td>\n",
       "      <td>252</td>\n",
       "      <td>1.573347e+04</td>\n",
       "      <td>19494.048830</td>\n",
       "      <td>...</td>\n",
       "      <td>0</td>\n",
       "      <td>0</td>\n",
       "      <td>0</td>\n",
       "      <td>0</td>\n",
       "      <td>0</td>\n",
       "      <td>0</td>\n",
       "      <td>0</td>\n",
       "      <td>1</td>\n",
       "      <td>0</td>\n",
       "      <td>0</td>\n",
       "    </tr>\n",
       "    <tr>\n",
       "      <td>21</td>\n",
       "      <td>0.338017</td>\n",
       "      <td>10</td>\n",
       "      <td>6</td>\n",
       "      <td>998</td>\n",
       "      <td>268</td>\n",
       "      <td>44.376468</td>\n",
       "      <td>254</td>\n",
       "      <td>252</td>\n",
       "      <td>2.127704e+04</td>\n",
       "      <td>5301.508789</td>\n",
       "      <td>...</td>\n",
       "      <td>0</td>\n",
       "      <td>0</td>\n",
       "      <td>0</td>\n",
       "      <td>0</td>\n",
       "      <td>0</td>\n",
       "      <td>0</td>\n",
       "      <td>0</td>\n",
       "      <td>1</td>\n",
       "      <td>0</td>\n",
       "      <td>0</td>\n",
       "    </tr>\n",
       "    <tr>\n",
       "      <td>...</td>\n",
       "      <td>...</td>\n",
       "      <td>...</td>\n",
       "      <td>...</td>\n",
       "      <td>...</td>\n",
       "      <td>...</td>\n",
       "      <td>...</td>\n",
       "      <td>...</td>\n",
       "      <td>...</td>\n",
       "      <td>...</td>\n",
       "      <td>...</td>\n",
       "      <td>...</td>\n",
       "      <td>...</td>\n",
       "      <td>...</td>\n",
       "      <td>...</td>\n",
       "      <td>...</td>\n",
       "      <td>...</td>\n",
       "      <td>...</td>\n",
       "      <td>...</td>\n",
       "      <td>...</td>\n",
       "      <td>...</td>\n",
       "      <td>...</td>\n",
       "    </tr>\n",
       "    <tr>\n",
       "      <td>256803</td>\n",
       "      <td>0.818276</td>\n",
       "      <td>60</td>\n",
       "      <td>14</td>\n",
       "      <td>68199</td>\n",
       "      <td>612</td>\n",
       "      <td>89.211954</td>\n",
       "      <td>254</td>\n",
       "      <td>252</td>\n",
       "      <td>6.556516e+05</td>\n",
       "      <td>5562.915039</td>\n",
       "      <td>...</td>\n",
       "      <td>0</td>\n",
       "      <td>0</td>\n",
       "      <td>0</td>\n",
       "      <td>0</td>\n",
       "      <td>0</td>\n",
       "      <td>0</td>\n",
       "      <td>0</td>\n",
       "      <td>1</td>\n",
       "      <td>0</td>\n",
       "      <td>0</td>\n",
       "    </tr>\n",
       "    <tr>\n",
       "      <td>256807</td>\n",
       "      <td>0.825170</td>\n",
       "      <td>60</td>\n",
       "      <td>14</td>\n",
       "      <td>68199</td>\n",
       "      <td>612</td>\n",
       "      <td>88.466621</td>\n",
       "      <td>254</td>\n",
       "      <td>252</td>\n",
       "      <td>6.501739e+05</td>\n",
       "      <td>5516.438965</td>\n",
       "      <td>...</td>\n",
       "      <td>0</td>\n",
       "      <td>0</td>\n",
       "      <td>0</td>\n",
       "      <td>0</td>\n",
       "      <td>0</td>\n",
       "      <td>0</td>\n",
       "      <td>0</td>\n",
       "      <td>1</td>\n",
       "      <td>0</td>\n",
       "      <td>0</td>\n",
       "    </tr>\n",
       "    <tr>\n",
       "      <td>256859</td>\n",
       "      <td>0.874942</td>\n",
       "      <td>60</td>\n",
       "      <td>14</td>\n",
       "      <td>68199</td>\n",
       "      <td>612</td>\n",
       "      <td>83.434101</td>\n",
       "      <td>254</td>\n",
       "      <td>252</td>\n",
       "      <td>6.131881e+05</td>\n",
       "      <td>5202.630371</td>\n",
       "      <td>...</td>\n",
       "      <td>0</td>\n",
       "      <td>0</td>\n",
       "      <td>0</td>\n",
       "      <td>0</td>\n",
       "      <td>0</td>\n",
       "      <td>0</td>\n",
       "      <td>0</td>\n",
       "      <td>1</td>\n",
       "      <td>0</td>\n",
       "      <td>0</td>\n",
       "    </tr>\n",
       "    <tr>\n",
       "      <td>256881</td>\n",
       "      <td>0.740231</td>\n",
       "      <td>60</td>\n",
       "      <td>14</td>\n",
       "      <td>68199</td>\n",
       "      <td>612</td>\n",
       "      <td>98.617867</td>\n",
       "      <td>254</td>\n",
       "      <td>252</td>\n",
       "      <td>7.247792e+05</td>\n",
       "      <td>6149.432129</td>\n",
       "      <td>...</td>\n",
       "      <td>0</td>\n",
       "      <td>0</td>\n",
       "      <td>0</td>\n",
       "      <td>0</td>\n",
       "      <td>0</td>\n",
       "      <td>0</td>\n",
       "      <td>0</td>\n",
       "      <td>1</td>\n",
       "      <td>0</td>\n",
       "      <td>0</td>\n",
       "    </tr>\n",
       "    <tr>\n",
       "      <td>257535</td>\n",
       "      <td>1.910248</td>\n",
       "      <td>62</td>\n",
       "      <td>20</td>\n",
       "      <td>68109</td>\n",
       "      <td>1026</td>\n",
       "      <td>42.402870</td>\n",
       "      <td>254</td>\n",
       "      <td>252</td>\n",
       "      <td>2.806379e+05</td>\n",
       "      <td>4083.239258</td>\n",
       "      <td>...</td>\n",
       "      <td>0</td>\n",
       "      <td>0</td>\n",
       "      <td>0</td>\n",
       "      <td>0</td>\n",
       "      <td>0</td>\n",
       "      <td>0</td>\n",
       "      <td>0</td>\n",
       "      <td>1</td>\n",
       "      <td>0</td>\n",
       "      <td>0</td>\n",
       "    </tr>\n",
       "  </tbody>\n",
       "</table>\n",
       "<p>116352 rows × 68 columns</p>\n",
       "</div>"
      ],
      "text/plain": [
       "             dur  spkts  dpkts  sbytes  dbytes           rate  sttl  dttl  \\\n",
       "3       1.681642     12     12     628     770      13.677108    62   252   \n",
       "11      2.093085     62     28   56329    2212      42.520967    62   252   \n",
       "15      0.000002      2      0     138       0  500000.001300   254     0   \n",
       "17      0.393556     10      8     860    1096      43.195886    62   252   \n",
       "21      0.338017     10      6     998     268      44.376468   254   252   \n",
       "...          ...    ...    ...     ...     ...            ...   ...   ...   \n",
       "256803  0.818276     60     14   68199     612      89.211954   254   252   \n",
       "256807  0.825170     60     14   68199     612      88.466621   254   252   \n",
       "256859  0.874942     60     14   68199     612      83.434101   254   252   \n",
       "256881  0.740231     60     14   68199     612      98.617867   254   252   \n",
       "257535  1.910248     62     20   68109    1026      42.402870   254   252   \n",
       "\n",
       "               sload         dload  ...  state-RST  attack_cat-Analysis  \\\n",
       "3       2.740179e+03   3358.622070  ...          0                    0   \n",
       "11      2.118251e+05   8152.559082  ...          0                    0   \n",
       "15      2.760000e+08      0.000000  ...          0                    0   \n",
       "17      1.573347e+04  19494.048830  ...          0                    0   \n",
       "21      2.127704e+04   5301.508789  ...          0                    0   \n",
       "...              ...           ...  ...        ...                  ...   \n",
       "256803  6.556516e+05   5562.915039  ...          0                    0   \n",
       "256807  6.501739e+05   5516.438965  ...          0                    0   \n",
       "256859  6.131881e+05   5202.630371  ...          0                    0   \n",
       "256881  7.247792e+05   6149.432129  ...          0                    0   \n",
       "257535  2.806379e+05   4083.239258  ...          0                    0   \n",
       "\n",
       "        attack_cat-Backdoor  attack_cat-DoS  attack_cat-Exploits  \\\n",
       "3                         0               0                    0   \n",
       "11                        0               0                    0   \n",
       "15                        0               0                    0   \n",
       "17                        0               0                    0   \n",
       "21                        0               0                    0   \n",
       "...                     ...             ...                  ...   \n",
       "256803                    0               0                    0   \n",
       "256807                    0               0                    0   \n",
       "256859                    0               0                    0   \n",
       "256881                    0               0                    0   \n",
       "257535                    0               0                    0   \n",
       "\n",
       "        attack_cat-Fuzzers  attack_cat-Generic  attack_cat-Normal  \\\n",
       "3                        0                   0                  1   \n",
       "11                       0                   0                  1   \n",
       "15                       0                   0                  1   \n",
       "17                       0                   0                  1   \n",
       "21                       0                   0                  1   \n",
       "...                    ...                 ...                ...   \n",
       "256803                   0                   0                  1   \n",
       "256807                   0                   0                  1   \n",
       "256859                   0                   0                  1   \n",
       "256881                   0                   0                  1   \n",
       "257535                   0                   0                  1   \n",
       "\n",
       "        attack_cat-Reconnaissance  attack_cat-Worms  \n",
       "3                               0                 0  \n",
       "11                              0                 0  \n",
       "15                              0                 0  \n",
       "17                              0                 0  \n",
       "21                              0                 0  \n",
       "...                           ...               ...  \n",
       "256803                          0                 0  \n",
       "256807                          0                 0  \n",
       "256859                          0                 0  \n",
       "256881                          0                 0  \n",
       "257535                          0                 0  \n",
       "\n",
       "[116352 rows x 68 columns]"
      ]
     },
     "execution_count": 10,
     "metadata": {},
     "output_type": "execute_result"
    }
   ],
   "source": [
    "x"
   ]
  },
  {
   "cell_type": "code",
   "execution_count": 11,
   "metadata": {},
   "outputs": [],
   "source": [
    "from sklearn.model_selection import train_test_split\n",
    "x_train, x_test, y_train, y_test = train_test_split(x, y, test_size=0.20, random_state=0)"
   ]
  },
  {
   "cell_type": "code",
   "execution_count": 12,
   "metadata": {},
   "outputs": [
    {
     "data": {
      "text/plain": [
       "(23271, 68)"
      ]
     },
     "execution_count": 12,
     "metadata": {},
     "output_type": "execute_result"
    }
   ],
   "source": [
    "x_test.shape"
   ]
  },
  {
   "cell_type": "code",
   "execution_count": 13,
   "metadata": {},
   "outputs": [
    {
     "data": {
      "text/plain": [
       "(93081,)"
      ]
     },
     "execution_count": 13,
     "metadata": {},
     "output_type": "execute_result"
    }
   ],
   "source": [
    "y_train.shape"
   ]
  },
  {
   "cell_type": "code",
   "execution_count": 14,
   "metadata": {},
   "outputs": [
    {
     "data": {
      "text/plain": [
       "(23271,)"
      ]
     },
     "execution_count": 14,
     "metadata": {},
     "output_type": "execute_result"
    }
   ],
   "source": [
    "y_test.shape"
   ]
  },
  {
   "cell_type": "code",
   "execution_count": 15,
   "metadata": {},
   "outputs": [
    {
     "data": {
      "text/plain": [
       "(93081, 68)"
      ]
     },
     "execution_count": 15,
     "metadata": {},
     "output_type": "execute_result"
    }
   ],
   "source": [
    "x_train.shape"
   ]
  },
  {
   "cell_type": "code",
   "execution_count": 16,
   "metadata": {},
   "outputs": [
    {
     "name": "stderr",
     "output_type": "stream",
     "text": [
      "C:\\Users\\Prerak\\Anaconda3\\lib\\site-packages\\ipykernel_launcher.py:38: SettingWithCopyWarning: \n",
      "A value is trying to be set on a copy of a slice from a DataFrame.\n",
      "Try using .loc[row_indexer,col_indexer] = value instead\n",
      "\n",
      "See the caveats in the documentation: http://pandas.pydata.org/pandas-docs/stable/user_guide/indexing.html#returning-a-view-versus-a-copy\n",
      "C:\\Users\\Prerak\\Anaconda3\\lib\\site-packages\\ipykernel_launcher.py:38: SettingWithCopyWarning: \n",
      "A value is trying to be set on a copy of a slice from a DataFrame.\n",
      "Try using .loc[row_indexer,col_indexer] = value instead\n",
      "\n",
      "See the caveats in the documentation: http://pandas.pydata.org/pandas-docs/stable/user_guide/indexing.html#returning-a-view-versus-a-copy\n",
      "C:\\Users\\Prerak\\Anaconda3\\lib\\site-packages\\ipykernel_launcher.py:38: SettingWithCopyWarning: \n",
      "A value is trying to be set on a copy of a slice from a DataFrame.\n",
      "Try using .loc[row_indexer,col_indexer] = value instead\n",
      "\n",
      "See the caveats in the documentation: http://pandas.pydata.org/pandas-docs/stable/user_guide/indexing.html#returning-a-view-versus-a-copy\n",
      "C:\\Users\\Prerak\\Anaconda3\\lib\\site-packages\\ipykernel_launcher.py:38: SettingWithCopyWarning: \n",
      "A value is trying to be set on a copy of a slice from a DataFrame.\n",
      "Try using .loc[row_indexer,col_indexer] = value instead\n",
      "\n",
      "See the caveats in the documentation: http://pandas.pydata.org/pandas-docs/stable/user_guide/indexing.html#returning-a-view-versus-a-copy\n",
      "C:\\Users\\Prerak\\Anaconda3\\lib\\site-packages\\ipykernel_launcher.py:38: SettingWithCopyWarning: \n",
      "A value is trying to be set on a copy of a slice from a DataFrame.\n",
      "Try using .loc[row_indexer,col_indexer] = value instead\n",
      "\n",
      "See the caveats in the documentation: http://pandas.pydata.org/pandas-docs/stable/user_guide/indexing.html#returning-a-view-versus-a-copy\n",
      "C:\\Users\\Prerak\\Anaconda3\\lib\\site-packages\\ipykernel_launcher.py:38: SettingWithCopyWarning: \n",
      "A value is trying to be set on a copy of a slice from a DataFrame.\n",
      "Try using .loc[row_indexer,col_indexer] = value instead\n",
      "\n",
      "See the caveats in the documentation: http://pandas.pydata.org/pandas-docs/stable/user_guide/indexing.html#returning-a-view-versus-a-copy\n",
      "C:\\Users\\Prerak\\Anaconda3\\lib\\site-packages\\ipykernel_launcher.py:38: SettingWithCopyWarning: \n",
      "A value is trying to be set on a copy of a slice from a DataFrame.\n",
      "Try using .loc[row_indexer,col_indexer] = value instead\n",
      "\n",
      "See the caveats in the documentation: http://pandas.pydata.org/pandas-docs/stable/user_guide/indexing.html#returning-a-view-versus-a-copy\n",
      "C:\\Users\\Prerak\\Anaconda3\\lib\\site-packages\\ipykernel_launcher.py:38: SettingWithCopyWarning: \n",
      "A value is trying to be set on a copy of a slice from a DataFrame.\n",
      "Try using .loc[row_indexer,col_indexer] = value instead\n",
      "\n",
      "See the caveats in the documentation: http://pandas.pydata.org/pandas-docs/stable/user_guide/indexing.html#returning-a-view-versus-a-copy\n",
      "C:\\Users\\Prerak\\Anaconda3\\lib\\site-packages\\ipykernel_launcher.py:38: SettingWithCopyWarning: \n",
      "A value is trying to be set on a copy of a slice from a DataFrame.\n",
      "Try using .loc[row_indexer,col_indexer] = value instead\n",
      "\n",
      "See the caveats in the documentation: http://pandas.pydata.org/pandas-docs/stable/user_guide/indexing.html#returning-a-view-versus-a-copy\n",
      "C:\\Users\\Prerak\\Anaconda3\\lib\\site-packages\\ipykernel_launcher.py:38: SettingWithCopyWarning: \n",
      "A value is trying to be set on a copy of a slice from a DataFrame.\n",
      "Try using .loc[row_indexer,col_indexer] = value instead\n",
      "\n",
      "See the caveats in the documentation: http://pandas.pydata.org/pandas-docs/stable/user_guide/indexing.html#returning-a-view-versus-a-copy\n",
      "C:\\Users\\Prerak\\Anaconda3\\lib\\site-packages\\ipykernel_launcher.py:38: SettingWithCopyWarning: \n",
      "A value is trying to be set on a copy of a slice from a DataFrame.\n",
      "Try using .loc[row_indexer,col_indexer] = value instead\n",
      "\n",
      "See the caveats in the documentation: http://pandas.pydata.org/pandas-docs/stable/user_guide/indexing.html#returning-a-view-versus-a-copy\n",
      "C:\\Users\\Prerak\\Anaconda3\\lib\\site-packages\\ipykernel_launcher.py:38: SettingWithCopyWarning: \n",
      "A value is trying to be set on a copy of a slice from a DataFrame.\n",
      "Try using .loc[row_indexer,col_indexer] = value instead\n",
      "\n",
      "See the caveats in the documentation: http://pandas.pydata.org/pandas-docs/stable/user_guide/indexing.html#returning-a-view-versus-a-copy\n",
      "C:\\Users\\Prerak\\Anaconda3\\lib\\site-packages\\ipykernel_launcher.py:38: SettingWithCopyWarning: \n",
      "A value is trying to be set on a copy of a slice from a DataFrame.\n",
      "Try using .loc[row_indexer,col_indexer] = value instead\n",
      "\n",
      "See the caveats in the documentation: http://pandas.pydata.org/pandas-docs/stable/user_guide/indexing.html#returning-a-view-versus-a-copy\n",
      "C:\\Users\\Prerak\\Anaconda3\\lib\\site-packages\\ipykernel_launcher.py:38: SettingWithCopyWarning: \n",
      "A value is trying to be set on a copy of a slice from a DataFrame.\n",
      "Try using .loc[row_indexer,col_indexer] = value instead\n",
      "\n",
      "See the caveats in the documentation: http://pandas.pydata.org/pandas-docs/stable/user_guide/indexing.html#returning-a-view-versus-a-copy\n",
      "C:\\Users\\Prerak\\Anaconda3\\lib\\site-packages\\ipykernel_launcher.py:38: SettingWithCopyWarning: \n",
      "A value is trying to be set on a copy of a slice from a DataFrame.\n",
      "Try using .loc[row_indexer,col_indexer] = value instead\n",
      "\n",
      "See the caveats in the documentation: http://pandas.pydata.org/pandas-docs/stable/user_guide/indexing.html#returning-a-view-versus-a-copy\n",
      "C:\\Users\\Prerak\\Anaconda3\\lib\\site-packages\\ipykernel_launcher.py:38: SettingWithCopyWarning: \n",
      "A value is trying to be set on a copy of a slice from a DataFrame.\n",
      "Try using .loc[row_indexer,col_indexer] = value instead\n",
      "\n",
      "See the caveats in the documentation: http://pandas.pydata.org/pandas-docs/stable/user_guide/indexing.html#returning-a-view-versus-a-copy\n",
      "C:\\Users\\Prerak\\Anaconda3\\lib\\site-packages\\ipykernel_launcher.py:38: SettingWithCopyWarning: \n",
      "A value is trying to be set on a copy of a slice from a DataFrame.\n",
      "Try using .loc[row_indexer,col_indexer] = value instead\n",
      "\n",
      "See the caveats in the documentation: http://pandas.pydata.org/pandas-docs/stable/user_guide/indexing.html#returning-a-view-versus-a-copy\n",
      "C:\\Users\\Prerak\\Anaconda3\\lib\\site-packages\\ipykernel_launcher.py:38: SettingWithCopyWarning: \n",
      "A value is trying to be set on a copy of a slice from a DataFrame.\n",
      "Try using .loc[row_indexer,col_indexer] = value instead\n",
      "\n",
      "See the caveats in the documentation: http://pandas.pydata.org/pandas-docs/stable/user_guide/indexing.html#returning-a-view-versus-a-copy\n",
      "C:\\Users\\Prerak\\Anaconda3\\lib\\site-packages\\ipykernel_launcher.py:38: SettingWithCopyWarning: \n",
      "A value is trying to be set on a copy of a slice from a DataFrame.\n",
      "Try using .loc[row_indexer,col_indexer] = value instead\n",
      "\n",
      "See the caveats in the documentation: http://pandas.pydata.org/pandas-docs/stable/user_guide/indexing.html#returning-a-view-versus-a-copy\n",
      "C:\\Users\\Prerak\\Anaconda3\\lib\\site-packages\\ipykernel_launcher.py:38: SettingWithCopyWarning: \n",
      "A value is trying to be set on a copy of a slice from a DataFrame.\n",
      "Try using .loc[row_indexer,col_indexer] = value instead\n",
      "\n",
      "See the caveats in the documentation: http://pandas.pydata.org/pandas-docs/stable/user_guide/indexing.html#returning-a-view-versus-a-copy\n",
      "C:\\Users\\Prerak\\Anaconda3\\lib\\site-packages\\ipykernel_launcher.py:38: SettingWithCopyWarning: \n",
      "A value is trying to be set on a copy of a slice from a DataFrame.\n",
      "Try using .loc[row_indexer,col_indexer] = value instead\n",
      "\n",
      "See the caveats in the documentation: http://pandas.pydata.org/pandas-docs/stable/user_guide/indexing.html#returning-a-view-versus-a-copy\n",
      "C:\\Users\\Prerak\\Anaconda3\\lib\\site-packages\\ipykernel_launcher.py:38: SettingWithCopyWarning: \n",
      "A value is trying to be set on a copy of a slice from a DataFrame.\n",
      "Try using .loc[row_indexer,col_indexer] = value instead\n",
      "\n",
      "See the caveats in the documentation: http://pandas.pydata.org/pandas-docs/stable/user_guide/indexing.html#returning-a-view-versus-a-copy\n",
      "C:\\Users\\Prerak\\Anaconda3\\lib\\site-packages\\ipykernel_launcher.py:38: SettingWithCopyWarning: \n",
      "A value is trying to be set on a copy of a slice from a DataFrame.\n",
      "Try using .loc[row_indexer,col_indexer] = value instead\n",
      "\n",
      "See the caveats in the documentation: http://pandas.pydata.org/pandas-docs/stable/user_guide/indexing.html#returning-a-view-versus-a-copy\n",
      "C:\\Users\\Prerak\\Anaconda3\\lib\\site-packages\\ipykernel_launcher.py:38: SettingWithCopyWarning: \n",
      "A value is trying to be set on a copy of a slice from a DataFrame.\n",
      "Try using .loc[row_indexer,col_indexer] = value instead\n",
      "\n",
      "See the caveats in the documentation: http://pandas.pydata.org/pandas-docs/stable/user_guide/indexing.html#returning-a-view-versus-a-copy\n",
      "C:\\Users\\Prerak\\Anaconda3\\lib\\site-packages\\ipykernel_launcher.py:38: SettingWithCopyWarning: \n",
      "A value is trying to be set on a copy of a slice from a DataFrame.\n",
      "Try using .loc[row_indexer,col_indexer] = value instead\n",
      "\n",
      "See the caveats in the documentation: http://pandas.pydata.org/pandas-docs/stable/user_guide/indexing.html#returning-a-view-versus-a-copy\n",
      "C:\\Users\\Prerak\\Anaconda3\\lib\\site-packages\\ipykernel_launcher.py:38: SettingWithCopyWarning: \n",
      "A value is trying to be set on a copy of a slice from a DataFrame.\n",
      "Try using .loc[row_indexer,col_indexer] = value instead\n",
      "\n",
      "See the caveats in the documentation: http://pandas.pydata.org/pandas-docs/stable/user_guide/indexing.html#returning-a-view-versus-a-copy\n"
     ]
    },
    {
     "name": "stderr",
     "output_type": "stream",
     "text": [
      "C:\\Users\\Prerak\\Anaconda3\\lib\\site-packages\\ipykernel_launcher.py:38: SettingWithCopyWarning: \n",
      "A value is trying to be set on a copy of a slice from a DataFrame.\n",
      "Try using .loc[row_indexer,col_indexer] = value instead\n",
      "\n",
      "See the caveats in the documentation: http://pandas.pydata.org/pandas-docs/stable/user_guide/indexing.html#returning-a-view-versus-a-copy\n",
      "C:\\Users\\Prerak\\Anaconda3\\lib\\site-packages\\ipykernel_launcher.py:38: SettingWithCopyWarning: \n",
      "A value is trying to be set on a copy of a slice from a DataFrame.\n",
      "Try using .loc[row_indexer,col_indexer] = value instead\n",
      "\n",
      "See the caveats in the documentation: http://pandas.pydata.org/pandas-docs/stable/user_guide/indexing.html#returning-a-view-versus-a-copy\n",
      "C:\\Users\\Prerak\\Anaconda3\\lib\\site-packages\\ipykernel_launcher.py:38: SettingWithCopyWarning: \n",
      "A value is trying to be set on a copy of a slice from a DataFrame.\n",
      "Try using .loc[row_indexer,col_indexer] = value instead\n",
      "\n",
      "See the caveats in the documentation: http://pandas.pydata.org/pandas-docs/stable/user_guide/indexing.html#returning-a-view-versus-a-copy\n",
      "C:\\Users\\Prerak\\Anaconda3\\lib\\site-packages\\ipykernel_launcher.py:38: SettingWithCopyWarning: \n",
      "A value is trying to be set on a copy of a slice from a DataFrame.\n",
      "Try using .loc[row_indexer,col_indexer] = value instead\n",
      "\n",
      "See the caveats in the documentation: http://pandas.pydata.org/pandas-docs/stable/user_guide/indexing.html#returning-a-view-versus-a-copy\n",
      "C:\\Users\\Prerak\\Anaconda3\\lib\\site-packages\\ipykernel_launcher.py:38: SettingWithCopyWarning: \n",
      "A value is trying to be set on a copy of a slice from a DataFrame.\n",
      "Try using .loc[row_indexer,col_indexer] = value instead\n",
      "\n",
      "See the caveats in the documentation: http://pandas.pydata.org/pandas-docs/stable/user_guide/indexing.html#returning-a-view-versus-a-copy\n",
      "C:\\Users\\Prerak\\Anaconda3\\lib\\site-packages\\ipykernel_launcher.py:38: SettingWithCopyWarning: \n",
      "A value is trying to be set on a copy of a slice from a DataFrame.\n",
      "Try using .loc[row_indexer,col_indexer] = value instead\n",
      "\n",
      "See the caveats in the documentation: http://pandas.pydata.org/pandas-docs/stable/user_guide/indexing.html#returning-a-view-versus-a-copy\n",
      "C:\\Users\\Prerak\\Anaconda3\\lib\\site-packages\\ipykernel_launcher.py:38: SettingWithCopyWarning: \n",
      "A value is trying to be set on a copy of a slice from a DataFrame.\n",
      "Try using .loc[row_indexer,col_indexer] = value instead\n",
      "\n",
      "See the caveats in the documentation: http://pandas.pydata.org/pandas-docs/stable/user_guide/indexing.html#returning-a-view-versus-a-copy\n",
      "C:\\Users\\Prerak\\Anaconda3\\lib\\site-packages\\ipykernel_launcher.py:38: SettingWithCopyWarning: \n",
      "A value is trying to be set on a copy of a slice from a DataFrame.\n",
      "Try using .loc[row_indexer,col_indexer] = value instead\n",
      "\n",
      "See the caveats in the documentation: http://pandas.pydata.org/pandas-docs/stable/user_guide/indexing.html#returning-a-view-versus-a-copy\n",
      "C:\\Users\\Prerak\\Anaconda3\\lib\\site-packages\\ipykernel_launcher.py:38: SettingWithCopyWarning: \n",
      "A value is trying to be set on a copy of a slice from a DataFrame.\n",
      "Try using .loc[row_indexer,col_indexer] = value instead\n",
      "\n",
      "See the caveats in the documentation: http://pandas.pydata.org/pandas-docs/stable/user_guide/indexing.html#returning-a-view-versus-a-copy\n",
      "C:\\Users\\Prerak\\Anaconda3\\lib\\site-packages\\ipykernel_launcher.py:38: SettingWithCopyWarning: \n",
      "A value is trying to be set on a copy of a slice from a DataFrame.\n",
      "Try using .loc[row_indexer,col_indexer] = value instead\n",
      "\n",
      "See the caveats in the documentation: http://pandas.pydata.org/pandas-docs/stable/user_guide/indexing.html#returning-a-view-versus-a-copy\n",
      "C:\\Users\\Prerak\\Anaconda3\\lib\\site-packages\\ipykernel_launcher.py:38: SettingWithCopyWarning: \n",
      "A value is trying to be set on a copy of a slice from a DataFrame.\n",
      "Try using .loc[row_indexer,col_indexer] = value instead\n",
      "\n",
      "See the caveats in the documentation: http://pandas.pydata.org/pandas-docs/stable/user_guide/indexing.html#returning-a-view-versus-a-copy\n",
      "C:\\Users\\Prerak\\Anaconda3\\lib\\site-packages\\ipykernel_launcher.py:38: SettingWithCopyWarning: \n",
      "A value is trying to be set on a copy of a slice from a DataFrame.\n",
      "Try using .loc[row_indexer,col_indexer] = value instead\n",
      "\n",
      "See the caveats in the documentation: http://pandas.pydata.org/pandas-docs/stable/user_guide/indexing.html#returning-a-view-versus-a-copy\n",
      "C:\\Users\\Prerak\\Anaconda3\\lib\\site-packages\\ipykernel_launcher.py:38: SettingWithCopyWarning: \n",
      "A value is trying to be set on a copy of a slice from a DataFrame.\n",
      "Try using .loc[row_indexer,col_indexer] = value instead\n",
      "\n",
      "See the caveats in the documentation: http://pandas.pydata.org/pandas-docs/stable/user_guide/indexing.html#returning-a-view-versus-a-copy\n",
      "C:\\Users\\Prerak\\Anaconda3\\lib\\site-packages\\ipykernel_launcher.py:38: SettingWithCopyWarning: \n",
      "A value is trying to be set on a copy of a slice from a DataFrame.\n",
      "Try using .loc[row_indexer,col_indexer] = value instead\n",
      "\n",
      "See the caveats in the documentation: http://pandas.pydata.org/pandas-docs/stable/user_guide/indexing.html#returning-a-view-versus-a-copy\n",
      "C:\\Users\\Prerak\\Anaconda3\\lib\\site-packages\\ipykernel_launcher.py:38: SettingWithCopyWarning: \n",
      "A value is trying to be set on a copy of a slice from a DataFrame.\n",
      "Try using .loc[row_indexer,col_indexer] = value instead\n",
      "\n",
      "See the caveats in the documentation: http://pandas.pydata.org/pandas-docs/stable/user_guide/indexing.html#returning-a-view-versus-a-copy\n",
      "C:\\Users\\Prerak\\Anaconda3\\lib\\site-packages\\ipykernel_launcher.py:38: SettingWithCopyWarning: \n",
      "A value is trying to be set on a copy of a slice from a DataFrame.\n",
      "Try using .loc[row_indexer,col_indexer] = value instead\n",
      "\n",
      "See the caveats in the documentation: http://pandas.pydata.org/pandas-docs/stable/user_guide/indexing.html#returning-a-view-versus-a-copy\n",
      "C:\\Users\\Prerak\\Anaconda3\\lib\\site-packages\\ipykernel_launcher.py:38: SettingWithCopyWarning: \n",
      "A value is trying to be set on a copy of a slice from a DataFrame.\n",
      "Try using .loc[row_indexer,col_indexer] = value instead\n",
      "\n",
      "See the caveats in the documentation: http://pandas.pydata.org/pandas-docs/stable/user_guide/indexing.html#returning-a-view-versus-a-copy\n",
      "C:\\Users\\Prerak\\Anaconda3\\lib\\site-packages\\ipykernel_launcher.py:38: SettingWithCopyWarning: \n",
      "A value is trying to be set on a copy of a slice from a DataFrame.\n",
      "Try using .loc[row_indexer,col_indexer] = value instead\n",
      "\n",
      "See the caveats in the documentation: http://pandas.pydata.org/pandas-docs/stable/user_guide/indexing.html#returning-a-view-versus-a-copy\n",
      "C:\\Users\\Prerak\\Anaconda3\\lib\\site-packages\\ipykernel_launcher.py:38: SettingWithCopyWarning: \n",
      "A value is trying to be set on a copy of a slice from a DataFrame.\n",
      "Try using .loc[row_indexer,col_indexer] = value instead\n",
      "\n",
      "See the caveats in the documentation: http://pandas.pydata.org/pandas-docs/stable/user_guide/indexing.html#returning-a-view-versus-a-copy\n",
      "C:\\Users\\Prerak\\Anaconda3\\lib\\site-packages\\ipykernel_launcher.py:38: SettingWithCopyWarning: \n",
      "A value is trying to be set on a copy of a slice from a DataFrame.\n",
      "Try using .loc[row_indexer,col_indexer] = value instead\n",
      "\n",
      "See the caveats in the documentation: http://pandas.pydata.org/pandas-docs/stable/user_guide/indexing.html#returning-a-view-versus-a-copy\n",
      "C:\\Users\\Prerak\\Anaconda3\\lib\\site-packages\\ipykernel_launcher.py:38: SettingWithCopyWarning: \n",
      "A value is trying to be set on a copy of a slice from a DataFrame.\n",
      "Try using .loc[row_indexer,col_indexer] = value instead\n",
      "\n",
      "See the caveats in the documentation: http://pandas.pydata.org/pandas-docs/stable/user_guide/indexing.html#returning-a-view-versus-a-copy\n",
      "C:\\Users\\Prerak\\Anaconda3\\lib\\site-packages\\ipykernel_launcher.py:38: SettingWithCopyWarning: \n",
      "A value is trying to be set on a copy of a slice from a DataFrame.\n",
      "Try using .loc[row_indexer,col_indexer] = value instead\n",
      "\n",
      "See the caveats in the documentation: http://pandas.pydata.org/pandas-docs/stable/user_guide/indexing.html#returning-a-view-versus-a-copy\n",
      "C:\\Users\\Prerak\\Anaconda3\\lib\\site-packages\\ipykernel_launcher.py:38: SettingWithCopyWarning: \n",
      "A value is trying to be set on a copy of a slice from a DataFrame.\n",
      "Try using .loc[row_indexer,col_indexer] = value instead\n",
      "\n",
      "See the caveats in the documentation: http://pandas.pydata.org/pandas-docs/stable/user_guide/indexing.html#returning-a-view-versus-a-copy\n",
      "C:\\Users\\Prerak\\Anaconda3\\lib\\site-packages\\ipykernel_launcher.py:38: SettingWithCopyWarning: \n",
      "A value is trying to be set on a copy of a slice from a DataFrame.\n",
      "Try using .loc[row_indexer,col_indexer] = value instead\n",
      "\n",
      "See the caveats in the documentation: http://pandas.pydata.org/pandas-docs/stable/user_guide/indexing.html#returning-a-view-versus-a-copy\n",
      "C:\\Users\\Prerak\\Anaconda3\\lib\\site-packages\\ipykernel_launcher.py:38: SettingWithCopyWarning: \n",
      "A value is trying to be set on a copy of a slice from a DataFrame.\n",
      "Try using .loc[row_indexer,col_indexer] = value instead\n",
      "\n",
      "See the caveats in the documentation: http://pandas.pydata.org/pandas-docs/stable/user_guide/indexing.html#returning-a-view-versus-a-copy\n",
      "C:\\Users\\Prerak\\Anaconda3\\lib\\site-packages\\ipykernel_launcher.py:38: SettingWithCopyWarning: \n",
      "A value is trying to be set on a copy of a slice from a DataFrame.\n",
      "Try using .loc[row_indexer,col_indexer] = value instead\n",
      "\n",
      "See the caveats in the documentation: http://pandas.pydata.org/pandas-docs/stable/user_guide/indexing.html#returning-a-view-versus-a-copy\n",
      "C:\\Users\\Prerak\\Anaconda3\\lib\\site-packages\\ipykernel_launcher.py:38: SettingWithCopyWarning: \n",
      "A value is trying to be set on a copy of a slice from a DataFrame.\n",
      "Try using .loc[row_indexer,col_indexer] = value instead\n",
      "\n",
      "See the caveats in the documentation: http://pandas.pydata.org/pandas-docs/stable/user_guide/indexing.html#returning-a-view-versus-a-copy\n",
      "C:\\Users\\Prerak\\Anaconda3\\lib\\site-packages\\ipykernel_launcher.py:38: SettingWithCopyWarning: \n",
      "A value is trying to be set on a copy of a slice from a DataFrame.\n",
      "Try using .loc[row_indexer,col_indexer] = value instead\n",
      "\n",
      "See the caveats in the documentation: http://pandas.pydata.org/pandas-docs/stable/user_guide/indexing.html#returning-a-view-versus-a-copy\n",
      "C:\\Users\\Prerak\\Anaconda3\\lib\\site-packages\\ipykernel_launcher.py:38: SettingWithCopyWarning: \n",
      "A value is trying to be set on a copy of a slice from a DataFrame.\n",
      "Try using .loc[row_indexer,col_indexer] = value instead\n",
      "\n",
      "See the caveats in the documentation: http://pandas.pydata.org/pandas-docs/stable/user_guide/indexing.html#returning-a-view-versus-a-copy\n"
     ]
    },
    {
     "name": "stderr",
     "output_type": "stream",
     "text": [
      "C:\\Users\\Prerak\\Anaconda3\\lib\\site-packages\\ipykernel_launcher.py:38: SettingWithCopyWarning: \n",
      "A value is trying to be set on a copy of a slice from a DataFrame.\n",
      "Try using .loc[row_indexer,col_indexer] = value instead\n",
      "\n",
      "See the caveats in the documentation: http://pandas.pydata.org/pandas-docs/stable/user_guide/indexing.html#returning-a-view-versus-a-copy\n",
      "C:\\Users\\Prerak\\Anaconda3\\lib\\site-packages\\ipykernel_launcher.py:38: SettingWithCopyWarning: \n",
      "A value is trying to be set on a copy of a slice from a DataFrame.\n",
      "Try using .loc[row_indexer,col_indexer] = value instead\n",
      "\n",
      "See the caveats in the documentation: http://pandas.pydata.org/pandas-docs/stable/user_guide/indexing.html#returning-a-view-versus-a-copy\n",
      "C:\\Users\\Prerak\\Anaconda3\\lib\\site-packages\\ipykernel_launcher.py:38: SettingWithCopyWarning: \n",
      "A value is trying to be set on a copy of a slice from a DataFrame.\n",
      "Try using .loc[row_indexer,col_indexer] = value instead\n",
      "\n",
      "See the caveats in the documentation: http://pandas.pydata.org/pandas-docs/stable/user_guide/indexing.html#returning-a-view-versus-a-copy\n",
      "C:\\Users\\Prerak\\Anaconda3\\lib\\site-packages\\ipykernel_launcher.py:38: SettingWithCopyWarning: \n",
      "A value is trying to be set on a copy of a slice from a DataFrame.\n",
      "Try using .loc[row_indexer,col_indexer] = value instead\n",
      "\n",
      "See the caveats in the documentation: http://pandas.pydata.org/pandas-docs/stable/user_guide/indexing.html#returning-a-view-versus-a-copy\n"
     ]
    }
   ],
   "source": [
    "for column in x_train.columns:\n",
    "    encode_numeric_zscore(x_train, column)\n",
    "    encode_numeric_zscore(x_test, column)"
   ]
  },
  {
   "cell_type": "code",
   "execution_count": 17,
   "metadata": {},
   "outputs": [
    {
     "data": {
      "text/html": [
       "<div>\n",
       "<style scoped>\n",
       "    .dataframe tbody tr th:only-of-type {\n",
       "        vertical-align: middle;\n",
       "    }\n",
       "\n",
       "    .dataframe tbody tr th {\n",
       "        vertical-align: top;\n",
       "    }\n",
       "\n",
       "    .dataframe thead th {\n",
       "        text-align: right;\n",
       "    }\n",
       "</style>\n",
       "<table border=\"1\" class=\"dataframe\">\n",
       "  <thead>\n",
       "    <tr style=\"text-align: right;\">\n",
       "      <th></th>\n",
       "      <th>dur</th>\n",
       "      <th>spkts</th>\n",
       "      <th>dpkts</th>\n",
       "      <th>sbytes</th>\n",
       "      <th>dbytes</th>\n",
       "      <th>rate</th>\n",
       "      <th>sttl</th>\n",
       "      <th>dttl</th>\n",
       "      <th>sload</th>\n",
       "      <th>dload</th>\n",
       "      <th>...</th>\n",
       "      <th>state-RST</th>\n",
       "      <th>attack_cat-Analysis</th>\n",
       "      <th>attack_cat-Backdoor</th>\n",
       "      <th>attack_cat-DoS</th>\n",
       "      <th>attack_cat-Exploits</th>\n",
       "      <th>attack_cat-Fuzzers</th>\n",
       "      <th>attack_cat-Generic</th>\n",
       "      <th>attack_cat-Normal</th>\n",
       "      <th>attack_cat-Reconnaissance</th>\n",
       "      <th>attack_cat-Worms</th>\n",
       "    </tr>\n",
       "  </thead>\n",
       "  <tbody>\n",
       "    <tr>\n",
       "      <td>204498</td>\n",
       "      <td>-0.197869</td>\n",
       "      <td>-0.09812</td>\n",
       "      <td>-0.110529</td>\n",
       "      <td>-0.056017</td>\n",
       "      <td>-0.075764</td>\n",
       "      <td>-0.615234</td>\n",
       "      <td>-1.361077</td>\n",
       "      <td>-0.452999</td>\n",
       "      <td>-0.613025</td>\n",
       "      <td>0.419033</td>\n",
       "      <td>...</td>\n",
       "      <td>-0.011819</td>\n",
       "      <td>-0.068522</td>\n",
       "      <td>-0.030936</td>\n",
       "      <td>-0.149615</td>\n",
       "      <td>-0.477166</td>\n",
       "      <td>-0.140822</td>\n",
       "      <td>-0.994306</td>\n",
       "      <td>1.732550</td>\n",
       "      <td>-0.140345</td>\n",
       "      <td>-0.034863</td>\n",
       "    </tr>\n",
       "    <tr>\n",
       "      <td>211445</td>\n",
       "      <td>-0.191910</td>\n",
       "      <td>0.17007</td>\n",
       "      <td>0.173206</td>\n",
       "      <td>0.096261</td>\n",
       "      <td>-0.058511</td>\n",
       "      <td>-0.610321</td>\n",
       "      <td>-1.361077</td>\n",
       "      <td>-0.452999</td>\n",
       "      <td>-0.472488</td>\n",
       "      <td>0.858346</td>\n",
       "      <td>...</td>\n",
       "      <td>-0.011819</td>\n",
       "      <td>-0.068522</td>\n",
       "      <td>-0.030936</td>\n",
       "      <td>-0.149615</td>\n",
       "      <td>-0.477166</td>\n",
       "      <td>-0.140822</td>\n",
       "      <td>-0.994306</td>\n",
       "      <td>1.732550</td>\n",
       "      <td>-0.140345</td>\n",
       "      <td>-0.034863</td>\n",
       "    </tr>\n",
       "    <tr>\n",
       "      <td>156267</td>\n",
       "      <td>-0.198126</td>\n",
       "      <td>-0.09812</td>\n",
       "      <td>-0.124715</td>\n",
       "      <td>-0.056083</td>\n",
       "      <td>-0.076633</td>\n",
       "      <td>0.854842</td>\n",
       "      <td>0.813785</td>\n",
       "      <td>-0.714227</td>\n",
       "      <td>0.822270</td>\n",
       "      <td>-0.215504</td>\n",
       "      <td>...</td>\n",
       "      <td>-0.011819</td>\n",
       "      <td>-0.068522</td>\n",
       "      <td>-0.030936</td>\n",
       "      <td>-0.149615</td>\n",
       "      <td>-0.477166</td>\n",
       "      <td>-0.140822</td>\n",
       "      <td>1.005716</td>\n",
       "      <td>-0.577178</td>\n",
       "      <td>-0.140345</td>\n",
       "      <td>-0.034863</td>\n",
       "    </tr>\n",
       "    <tr>\n",
       "      <td>206052</td>\n",
       "      <td>-0.197852</td>\n",
       "      <td>-0.09812</td>\n",
       "      <td>-0.110529</td>\n",
       "      <td>-0.056017</td>\n",
       "      <td>-0.075764</td>\n",
       "      <td>-0.616292</td>\n",
       "      <td>-1.361077</td>\n",
       "      <td>-0.452999</td>\n",
       "      <td>-0.613415</td>\n",
       "      <td>0.379731</td>\n",
       "      <td>...</td>\n",
       "      <td>-0.011819</td>\n",
       "      <td>-0.068522</td>\n",
       "      <td>-0.030936</td>\n",
       "      <td>-0.149615</td>\n",
       "      <td>-0.477166</td>\n",
       "      <td>-0.140822</td>\n",
       "      <td>-0.994306</td>\n",
       "      <td>1.732550</td>\n",
       "      <td>-0.140345</td>\n",
       "      <td>-0.034863</td>\n",
       "    </tr>\n",
       "    <tr>\n",
       "      <td>159456</td>\n",
       "      <td>-0.198127</td>\n",
       "      <td>-0.09812</td>\n",
       "      <td>-0.124715</td>\n",
       "      <td>-0.056083</td>\n",
       "      <td>-0.076633</td>\n",
       "      <td>5.316303</td>\n",
       "      <td>0.813785</td>\n",
       "      <td>-0.714227</td>\n",
       "      <td>5.147034</td>\n",
       "      <td>-0.215504</td>\n",
       "      <td>...</td>\n",
       "      <td>-0.011819</td>\n",
       "      <td>-0.068522</td>\n",
       "      <td>-0.030936</td>\n",
       "      <td>-0.149615</td>\n",
       "      <td>-0.477166</td>\n",
       "      <td>-0.140822</td>\n",
       "      <td>1.005716</td>\n",
       "      <td>-0.577178</td>\n",
       "      <td>-0.140345</td>\n",
       "      <td>-0.034863</td>\n",
       "    </tr>\n",
       "    <tr>\n",
       "      <td>...</td>\n",
       "      <td>...</td>\n",
       "      <td>...</td>\n",
       "      <td>...</td>\n",
       "      <td>...</td>\n",
       "      <td>...</td>\n",
       "      <td>...</td>\n",
       "      <td>...</td>\n",
       "      <td>...</td>\n",
       "      <td>...</td>\n",
       "      <td>...</td>\n",
       "      <td>...</td>\n",
       "      <td>...</td>\n",
       "      <td>...</td>\n",
       "      <td>...</td>\n",
       "      <td>...</td>\n",
       "      <td>...</td>\n",
       "      <td>...</td>\n",
       "      <td>...</td>\n",
       "      <td>...</td>\n",
       "      <td>...</td>\n",
       "      <td>...</td>\n",
       "    </tr>\n",
       "    <tr>\n",
       "      <td>60768</td>\n",
       "      <td>0.093107</td>\n",
       "      <td>0.21298</td>\n",
       "      <td>-0.025408</td>\n",
       "      <td>0.223380</td>\n",
       "      <td>-0.073352</td>\n",
       "      <td>-0.631943</td>\n",
       "      <td>0.813785</td>\n",
       "      <td>1.555757</td>\n",
       "      <td>-0.613561</td>\n",
       "      <td>-0.211552</td>\n",
       "      <td>...</td>\n",
       "      <td>-0.011819</td>\n",
       "      <td>-0.068522</td>\n",
       "      <td>-0.030936</td>\n",
       "      <td>-0.149615</td>\n",
       "      <td>-0.477166</td>\n",
       "      <td>7.101086</td>\n",
       "      <td>-0.994306</td>\n",
       "      <td>-0.577178</td>\n",
       "      <td>-0.140345</td>\n",
       "      <td>-0.034863</td>\n",
       "    </tr>\n",
       "    <tr>\n",
       "      <td>131754</td>\n",
       "      <td>-0.198125</td>\n",
       "      <td>-0.09812</td>\n",
       "      <td>-0.124715</td>\n",
       "      <td>-0.056083</td>\n",
       "      <td>-0.076633</td>\n",
       "      <td>0.028645</td>\n",
       "      <td>0.813785</td>\n",
       "      <td>-0.714227</td>\n",
       "      <td>0.021388</td>\n",
       "      <td>-0.215504</td>\n",
       "      <td>...</td>\n",
       "      <td>-0.011819</td>\n",
       "      <td>-0.068522</td>\n",
       "      <td>-0.030936</td>\n",
       "      <td>-0.149615</td>\n",
       "      <td>-0.477166</td>\n",
       "      <td>-0.140822</td>\n",
       "      <td>1.005716</td>\n",
       "      <td>-0.577178</td>\n",
       "      <td>-0.140345</td>\n",
       "      <td>-0.034863</td>\n",
       "    </tr>\n",
       "    <tr>\n",
       "      <td>127450</td>\n",
       "      <td>-0.198125</td>\n",
       "      <td>-0.09812</td>\n",
       "      <td>-0.124715</td>\n",
       "      <td>-0.056083</td>\n",
       "      <td>-0.076633</td>\n",
       "      <td>0.028645</td>\n",
       "      <td>0.813785</td>\n",
       "      <td>-0.714227</td>\n",
       "      <td>0.021388</td>\n",
       "      <td>-0.215504</td>\n",
       "      <td>...</td>\n",
       "      <td>-0.011819</td>\n",
       "      <td>-0.068522</td>\n",
       "      <td>-0.030936</td>\n",
       "      <td>-0.149615</td>\n",
       "      <td>-0.477166</td>\n",
       "      <td>-0.140822</td>\n",
       "      <td>1.005716</td>\n",
       "      <td>-0.577178</td>\n",
       "      <td>-0.140345</td>\n",
       "      <td>-0.034863</td>\n",
       "    </tr>\n",
       "    <tr>\n",
       "      <td>128726</td>\n",
       "      <td>-0.198126</td>\n",
       "      <td>-0.09812</td>\n",
       "      <td>-0.124715</td>\n",
       "      <td>-0.056083</td>\n",
       "      <td>-0.076633</td>\n",
       "      <td>0.854842</td>\n",
       "      <td>0.813785</td>\n",
       "      <td>-0.714227</td>\n",
       "      <td>0.822270</td>\n",
       "      <td>-0.215504</td>\n",
       "      <td>...</td>\n",
       "      <td>-0.011819</td>\n",
       "      <td>-0.068522</td>\n",
       "      <td>-0.030936</td>\n",
       "      <td>-0.149615</td>\n",
       "      <td>-0.477166</td>\n",
       "      <td>-0.140822</td>\n",
       "      <td>1.005716</td>\n",
       "      <td>-0.577178</td>\n",
       "      <td>-0.140345</td>\n",
       "      <td>-0.034863</td>\n",
       "    </tr>\n",
       "    <tr>\n",
       "      <td>159948</td>\n",
       "      <td>-0.198127</td>\n",
       "      <td>-0.09812</td>\n",
       "      <td>-0.124715</td>\n",
       "      <td>-0.056083</td>\n",
       "      <td>-0.076633</td>\n",
       "      <td>1.350560</td>\n",
       "      <td>0.813785</td>\n",
       "      <td>-0.714227</td>\n",
       "      <td>1.302799</td>\n",
       "      <td>-0.215504</td>\n",
       "      <td>...</td>\n",
       "      <td>-0.011819</td>\n",
       "      <td>-0.068522</td>\n",
       "      <td>-0.030936</td>\n",
       "      <td>-0.149615</td>\n",
       "      <td>-0.477166</td>\n",
       "      <td>-0.140822</td>\n",
       "      <td>1.005716</td>\n",
       "      <td>-0.577178</td>\n",
       "      <td>-0.140345</td>\n",
       "      <td>-0.034863</td>\n",
       "    </tr>\n",
       "  </tbody>\n",
       "</table>\n",
       "<p>93081 rows × 68 columns</p>\n",
       "</div>"
      ],
      "text/plain": [
       "             dur    spkts     dpkts    sbytes    dbytes      rate      sttl  \\\n",
       "204498 -0.197869 -0.09812 -0.110529 -0.056017 -0.075764 -0.615234 -1.361077   \n",
       "211445 -0.191910  0.17007  0.173206  0.096261 -0.058511 -0.610321 -1.361077   \n",
       "156267 -0.198126 -0.09812 -0.124715 -0.056083 -0.076633  0.854842  0.813785   \n",
       "206052 -0.197852 -0.09812 -0.110529 -0.056017 -0.075764 -0.616292 -1.361077   \n",
       "159456 -0.198127 -0.09812 -0.124715 -0.056083 -0.076633  5.316303  0.813785   \n",
       "...          ...      ...       ...       ...       ...       ...       ...   \n",
       "60768   0.093107  0.21298 -0.025408  0.223380 -0.073352 -0.631943  0.813785   \n",
       "131754 -0.198125 -0.09812 -0.124715 -0.056083 -0.076633  0.028645  0.813785   \n",
       "127450 -0.198125 -0.09812 -0.124715 -0.056083 -0.076633  0.028645  0.813785   \n",
       "128726 -0.198126 -0.09812 -0.124715 -0.056083 -0.076633  0.854842  0.813785   \n",
       "159948 -0.198127 -0.09812 -0.124715 -0.056083 -0.076633  1.350560  0.813785   \n",
       "\n",
       "            dttl     sload     dload  ...  state-RST  attack_cat-Analysis  \\\n",
       "204498 -0.452999 -0.613025  0.419033  ...  -0.011819            -0.068522   \n",
       "211445 -0.452999 -0.472488  0.858346  ...  -0.011819            -0.068522   \n",
       "156267 -0.714227  0.822270 -0.215504  ...  -0.011819            -0.068522   \n",
       "206052 -0.452999 -0.613415  0.379731  ...  -0.011819            -0.068522   \n",
       "159456 -0.714227  5.147034 -0.215504  ...  -0.011819            -0.068522   \n",
       "...          ...       ...       ...  ...        ...                  ...   \n",
       "60768   1.555757 -0.613561 -0.211552  ...  -0.011819            -0.068522   \n",
       "131754 -0.714227  0.021388 -0.215504  ...  -0.011819            -0.068522   \n",
       "127450 -0.714227  0.021388 -0.215504  ...  -0.011819            -0.068522   \n",
       "128726 -0.714227  0.822270 -0.215504  ...  -0.011819            -0.068522   \n",
       "159948 -0.714227  1.302799 -0.215504  ...  -0.011819            -0.068522   \n",
       "\n",
       "        attack_cat-Backdoor  attack_cat-DoS  attack_cat-Exploits  \\\n",
       "204498            -0.030936       -0.149615            -0.477166   \n",
       "211445            -0.030936       -0.149615            -0.477166   \n",
       "156267            -0.030936       -0.149615            -0.477166   \n",
       "206052            -0.030936       -0.149615            -0.477166   \n",
       "159456            -0.030936       -0.149615            -0.477166   \n",
       "...                     ...             ...                  ...   \n",
       "60768             -0.030936       -0.149615            -0.477166   \n",
       "131754            -0.030936       -0.149615            -0.477166   \n",
       "127450            -0.030936       -0.149615            -0.477166   \n",
       "128726            -0.030936       -0.149615            -0.477166   \n",
       "159948            -0.030936       -0.149615            -0.477166   \n",
       "\n",
       "        attack_cat-Fuzzers  attack_cat-Generic  attack_cat-Normal  \\\n",
       "204498           -0.140822           -0.994306           1.732550   \n",
       "211445           -0.140822           -0.994306           1.732550   \n",
       "156267           -0.140822            1.005716          -0.577178   \n",
       "206052           -0.140822           -0.994306           1.732550   \n",
       "159456           -0.140822            1.005716          -0.577178   \n",
       "...                    ...                 ...                ...   \n",
       "60768             7.101086           -0.994306          -0.577178   \n",
       "131754           -0.140822            1.005716          -0.577178   \n",
       "127450           -0.140822            1.005716          -0.577178   \n",
       "128726           -0.140822            1.005716          -0.577178   \n",
       "159948           -0.140822            1.005716          -0.577178   \n",
       "\n",
       "        attack_cat-Reconnaissance  attack_cat-Worms  \n",
       "204498                  -0.140345         -0.034863  \n",
       "211445                  -0.140345         -0.034863  \n",
       "156267                  -0.140345         -0.034863  \n",
       "206052                  -0.140345         -0.034863  \n",
       "159456                  -0.140345         -0.034863  \n",
       "...                           ...               ...  \n",
       "60768                   -0.140345         -0.034863  \n",
       "131754                  -0.140345         -0.034863  \n",
       "127450                  -0.140345         -0.034863  \n",
       "128726                  -0.140345         -0.034863  \n",
       "159948                  -0.140345         -0.034863  \n",
       "\n",
       "[93081 rows x 68 columns]"
      ]
     },
     "execution_count": 17,
     "metadata": {},
     "output_type": "execute_result"
    }
   ],
   "source": [
    "x_train"
   ]
  },
  {
   "cell_type": "code",
   "execution_count": 18,
   "metadata": {},
   "outputs": [
    {
     "name": "stderr",
     "output_type": "stream",
     "text": [
      "C:\\Users\\Prerak\\Anaconda3\\lib\\site-packages\\ipykernel_launcher.py:1: SettingWithCopyWarning: \n",
      "A value is trying to be set on a copy of a slice from a DataFrame\n",
      "\n",
      "See the caveats in the documentation: http://pandas.pydata.org/pandas-docs/stable/user_guide/indexing.html#returning-a-view-versus-a-copy\n",
      "  \"\"\"Entry point for launching an IPython kernel.\n"
     ]
    }
   ],
   "source": [
    "x_train.dropna(axis=1,inplace=True)"
   ]
  },
  {
   "cell_type": "code",
   "execution_count": 19,
   "metadata": {},
   "outputs": [
    {
     "name": "stderr",
     "output_type": "stream",
     "text": [
      "C:\\Users\\Prerak\\Anaconda3\\lib\\site-packages\\ipykernel_launcher.py:1: SettingWithCopyWarning: \n",
      "A value is trying to be set on a copy of a slice from a DataFrame\n",
      "\n",
      "See the caveats in the documentation: http://pandas.pydata.org/pandas-docs/stable/user_guide/indexing.html#returning-a-view-versus-a-copy\n",
      "  \"\"\"Entry point for launching an IPython kernel.\n"
     ]
    }
   ],
   "source": [
    "x_test.dropna(axis=1,inplace=True)"
   ]
  },
  {
   "cell_type": "code",
   "execution_count": 20,
   "metadata": {},
   "outputs": [
    {
     "data": {
      "text/plain": [
       "(93081, 67)"
      ]
     },
     "execution_count": 20,
     "metadata": {},
     "output_type": "execute_result"
    }
   ],
   "source": [
    "x_train.shape"
   ]
  },
  {
   "cell_type": "code",
   "execution_count": 21,
   "metadata": {},
   "outputs": [
    {
     "data": {
      "text/plain": [
       "(23271, 66)"
      ]
     },
     "execution_count": 21,
     "metadata": {},
     "output_type": "execute_result"
    }
   ],
   "source": [
    "x_test.shape"
   ]
  },
  {
   "cell_type": "code",
   "execution_count": 22,
   "metadata": {},
   "outputs": [
    {
     "data": {
      "text/plain": [
       "Index(['dur', 'spkts', 'dpkts', 'sbytes', 'dbytes', 'rate', 'sttl', 'dttl',\n",
       "       'sload', 'dload', 'sloss', 'dloss', 'sinpkt', 'dinpkt', 'sjit', 'djit',\n",
       "       'swin', 'stcpb', 'dtcpb', 'dwin', 'tcprtt', 'synack', 'ackdat', 'smean',\n",
       "       'dmean', 'trans_depth', 'response_body_len', 'ct_srv_src',\n",
       "       'ct_state_ttl', 'ct_dst_ltm', 'ct_src_dport_ltm', 'ct_dst_sport_ltm',\n",
       "       'ct_dst_src_ltm', 'is_ftp_login', 'ct_ftp_cmd', 'ct_flw_http_mthd',\n",
       "       'ct_src_ltm', 'ct_srv_dst', 'service-dhcp', 'service-dns',\n",
       "       'service-ftp', 'service-ftp-data', 'service-http', 'service-irc',\n",
       "       'service-pop3', 'service-radius', 'service-smtp', 'service-snmp',\n",
       "       'service-ssh', 'service-ssl', 'proto-tcp', 'proto-udp', 'state-ACC',\n",
       "       'state-CON', 'state-FIN', 'state-INT', 'state-REQ', 'state-RST',\n",
       "       'attack_cat-Analysis', 'attack_cat-Backdoor', 'attack_cat-DoS',\n",
       "       'attack_cat-Exploits', 'attack_cat-Fuzzers', 'attack_cat-Generic',\n",
       "       'attack_cat-Normal', 'attack_cat-Reconnaissance', 'attack_cat-Worms'],\n",
       "      dtype='object')"
      ]
     },
     "execution_count": 22,
     "metadata": {},
     "output_type": "execute_result"
    }
   ],
   "source": [
    "x_train.columns"
   ]
  },
  {
   "cell_type": "code",
   "execution_count": 23,
   "metadata": {},
   "outputs": [
    {
     "data": {
      "text/plain": [
       "Index(['dur', 'spkts', 'dpkts', 'sbytes', 'dbytes', 'rate', 'sttl', 'dttl',\n",
       "       'sload', 'dload', 'sloss', 'dloss', 'sinpkt', 'dinpkt', 'sjit', 'djit',\n",
       "       'swin', 'stcpb', 'dtcpb', 'dwin', 'tcprtt', 'synack', 'ackdat', 'smean',\n",
       "       'dmean', 'trans_depth', 'response_body_len', 'ct_srv_src',\n",
       "       'ct_state_ttl', 'ct_dst_ltm', 'ct_src_dport_ltm', 'ct_dst_sport_ltm',\n",
       "       'ct_dst_src_ltm', 'is_ftp_login', 'ct_ftp_cmd', 'ct_flw_http_mthd',\n",
       "       'ct_src_ltm', 'ct_srv_dst', 'service-dhcp', 'service-dns',\n",
       "       'service-ftp', 'service-ftp-data', 'service-http', 'service-irc',\n",
       "       'service-pop3', 'service-radius', 'service-smtp', 'service-snmp',\n",
       "       'service-ssh', 'service-ssl', 'proto-tcp', 'proto-udp', 'state-CON',\n",
       "       'state-FIN', 'state-INT', 'state-REQ', 'state-RST',\n",
       "       'attack_cat-Analysis', 'attack_cat-Backdoor', 'attack_cat-DoS',\n",
       "       'attack_cat-Exploits', 'attack_cat-Fuzzers', 'attack_cat-Generic',\n",
       "       'attack_cat-Normal', 'attack_cat-Reconnaissance', 'attack_cat-Worms'],\n",
       "      dtype='object')"
      ]
     },
     "execution_count": 23,
     "metadata": {},
     "output_type": "execute_result"
    }
   ],
   "source": [
    "x_test.columns"
   ]
  },
  {
   "cell_type": "code",
   "execution_count": 24,
   "metadata": {},
   "outputs": [
    {
     "name": "stderr",
     "output_type": "stream",
     "text": [
      "C:\\Users\\Prerak\\Anaconda3\\lib\\site-packages\\pandas\\core\\frame.py:4102: SettingWithCopyWarning: \n",
      "A value is trying to be set on a copy of a slice from a DataFrame\n",
      "\n",
      "See the caveats in the documentation: http://pandas.pydata.org/pandas-docs/stable/user_guide/indexing.html#returning-a-view-versus-a-copy\n",
      "  errors=errors,\n"
     ]
    }
   ],
   "source": [
    "#x_train.drop(labels=['is_sm_ips_ports'],axis=1,inplace=True)\n",
    "#x_test.drop(labels=['is_sm_ips_ports'],axis=1,inplace=True)\n",
    "x_train.drop(labels=['state-ACC'],axis=1,inplace=True)\n",
    "#x_test.drop(labels=['state-ACC'],axis=1,inplace=True)"
   ]
  },
  {
   "cell_type": "markdown",
   "metadata": {},
   "source": [
    "# Logistic Regression"
   ]
  },
  {
   "cell_type": "code",
   "execution_count": 25,
   "metadata": {},
   "outputs": [
    {
     "name": "stderr",
     "output_type": "stream",
     "text": [
      "C:\\Users\\Prerak\\Anaconda3\\lib\\site-packages\\sklearn\\linear_model\\logistic.py:432: FutureWarning: Default solver will be changed to 'lbfgs' in 0.22. Specify a solver to silence this warning.\n",
      "  FutureWarning)\n"
     ]
    },
    {
     "data": {
      "text/plain": [
       "LogisticRegression(C=1.0, class_weight=None, dual=False, fit_intercept=True,\n",
       "                   intercept_scaling=1, l1_ratio=None, max_iter=100,\n",
       "                   multi_class='warn', n_jobs=None, penalty='l2',\n",
       "                   random_state=None, solver='warn', tol=0.0001, verbose=0,\n",
       "                   warm_start=False)"
      ]
     },
     "execution_count": 25,
     "metadata": {},
     "output_type": "execute_result"
    }
   ],
   "source": [
    "from sklearn.linear_model import LogisticRegression\n",
    "from sklearn.metrics import confusion_matrix\n",
    "from sklearn.metrics import classification_report\n",
    "\n",
    "lr=LogisticRegression()\n",
    "lr.fit(x_train,y_train)"
   ]
  },
  {
   "cell_type": "code",
   "execution_count": 26,
   "metadata": {},
   "outputs": [
    {
     "name": "stdout",
     "output_type": "stream",
     "text": [
      "Accuracy of logistic regression classifier on test set: 1.0\n"
     ]
    }
   ],
   "source": [
    "y_pred = lr.predict(x_test)\n",
    "print('Accuracy of logistic regression classifier on test set:',lr.score(x_test, y_test))"
   ]
  },
  {
   "cell_type": "code",
   "execution_count": 27,
   "metadata": {},
   "outputs": [
    {
     "name": "stdout",
     "output_type": "stream",
     "text": [
      "[[ 5853     0]\n",
      " [    0 17418]]\n"
     ]
    },
    {
     "data": {
      "image/png": "[encoded data removed]",
      "text/plain": [
       "<Figure size 432x288 with 2 Axes>"
      ]
     },
     "metadata": {
      "needs_background": "light"
     },
     "output_type": "display_data"
    }
   ],
   "source": [
    "cm = confusion_matrix(y_test, y_pred)\n",
    "print(cm)\n",
    "plot_confusion_matrix(cm,['0','1'])"
   ]
  },
  {
   "cell_type": "code",
   "execution_count": 28,
   "metadata": {},
   "outputs": [
    {
     "name": "stdout",
     "output_type": "stream",
     "text": [
      "              precision    recall  f1-score   support\n",
      "\n",
      "           0       1.00      1.00      1.00      5853\n",
      "           1       1.00      1.00      1.00     17418\n",
      "\n",
      "    accuracy                           1.00     23271\n",
      "   macro avg       1.00      1.00      1.00     23271\n",
      "weighted avg       1.00      1.00      1.00     23271\n",
      "\n"
     ]
    }
   ],
   "source": [
    "print(classification_report(y_test,y_pred))"
   ]
  },
  {
   "cell_type": "code",
   "execution_count": 29,
   "metadata": {},
   "outputs": [
    {
     "data": {
      "image/png": "[encoded data removed]",
      "text/plain": [
       "<Figure size 432x288 with 1 Axes>"
      ]
     },
     "metadata": {
      "needs_background": "light"
     },
     "output_type": "display_data"
    }
   ],
   "source": [
    "plot_roc(y_pred,y_test)"
   ]
  },
  {
   "cell_type": "markdown",
   "metadata": {},
   "source": [
    "# SVM"
   ]
  },
  {
   "cell_type": "code",
   "execution_count": 30,
   "metadata": {},
   "outputs": [
    {
     "name": "stderr",
     "output_type": "stream",
     "text": [
      "C:\\Users\\Prerak\\Anaconda3\\lib\\site-packages\\sklearn\\svm\\base.py:193: FutureWarning: The default value of gamma will change from 'auto' to 'scale' in version 0.22 to account better for unscaled features. Set gamma explicitly to 'auto' or 'scale' to avoid this warning.\n",
      "  \"avoid this warning.\", FutureWarning)\n"
     ]
    }
   ],
   "source": [
    "from sklearn.svm import SVC\n",
    "svm_object = SVC(kernel = 'rbf')\n",
    "svm_object.fit(x_train, y_train)\n",
    "y_pred = svm_object.predict(x_test)"
   ]
  },
  {
   "cell_type": "code",
   "execution_count": 31,
   "metadata": {},
   "outputs": [
    {
     "name": "stdout",
     "output_type": "stream",
     "text": [
      "[[ 5847     6]\n",
      " [    0 17418]]\n"
     ]
    },
    {
     "data": {
      "image/png": "[encoded data removed]",
      "text/plain": [
       "<Figure size 432x288 with 2 Axes>"
      ]
     },
     "metadata": {
      "needs_background": "light"
     },
     "output_type": "display_data"
    }
   ],
   "source": [
    "cm = confusion_matrix(y_test,y_pred)\n",
    "print(cm)\n",
    "plot_confusion_matrix(cm,['0','1'])"
   ]
  },
  {
   "cell_type": "code",
   "execution_count": 32,
   "metadata": {},
   "outputs": [
    {
     "name": "stdout",
     "output_type": "stream",
     "text": [
      "Accuracy: 0.9997421683640583\n",
      "              precision    recall  f1-score   support\n",
      "\n",
      "           0       1.00      1.00      1.00      5853\n",
      "           1       1.00      1.00      1.00     17418\n",
      "\n",
      "    accuracy                           1.00     23271\n",
      "   macro avg       1.00      1.00      1.00     23271\n",
      "weighted avg       1.00      1.00      1.00     23271\n",
      "\n"
     ]
    }
   ],
   "source": [
    "print(\"Accuracy:\",metrics.accuracy_score(y_test, y_pred))\n",
    "print(classification_report(y_test,y_pred))"
   ]
  },
  {
   "cell_type": "code",
   "execution_count": 33,
   "metadata": {},
   "outputs": [
    {
     "data": {
      "image/png": "[encoded data removed]",
      "text/plain": [
       "<Figure size 432x288 with 1 Axes>"
      ]
     },
     "metadata": {
      "needs_background": "light"
     },
     "output_type": "display_data"
    }
   ],
   "source": [
    "plot_roc(y_pred,y_test)"
   ]
  },
  {
   "cell_type": "markdown",
   "metadata": {},
   "source": [
    "# KNN "
   ]
  },
  {
   "cell_type": "code",
   "execution_count": 34,
   "metadata": {},
   "outputs": [
    {
     "data": {
      "text/plain": [
       "KNeighborsClassifier(algorithm='auto', leaf_size=30, metric='minkowski',\n",
       "                     metric_params=None, n_jobs=None, n_neighbors=5, p=2,\n",
       "                     weights='uniform')"
      ]
     },
     "execution_count": 34,
     "metadata": {},
     "output_type": "execute_result"
    }
   ],
   "source": [
    "from sklearn.neighbors import KNeighborsClassifier\n",
    "knn = KNeighborsClassifier(n_neighbors=5)\n",
    "knn.fit(x_train, y_train)"
   ]
  },
  {
   "cell_type": "code",
   "execution_count": 35,
   "metadata": {},
   "outputs": [
    {
     "name": "stdout",
     "output_type": "stream",
     "text": [
      "[[ 5847     6]\n",
      " [    0 17418]]\n"
     ]
    },
    {
     "data": {
      "image/png": "[encoded data removed]",
      "text/plain": [
       "<Figure size 432x288 with 2 Axes>"
      ]
     },
     "metadata": {
      "needs_background": "light"
     },
     "output_type": "display_data"
    }
   ],
   "source": [
    "cm = confusion_matrix(y_test,y_pred)\n",
    "print(cm)\n",
    "plot_confusion_matrix(cm,['0','1'])"
   ]
  },
  {
   "cell_type": "code",
   "execution_count": 36,
   "metadata": {},
   "outputs": [
    {
     "name": "stdout",
     "output_type": "stream",
     "text": [
      "Accuracy: 0.9997421683640583\n",
      "              precision    recall  f1-score   support\n",
      "\n",
      "           0       1.00      1.00      1.00      5853\n",
      "           1       1.00      1.00      1.00     17418\n",
      "\n",
      "    accuracy                           1.00     23271\n",
      "   macro avg       1.00      1.00      1.00     23271\n",
      "weighted avg       1.00      1.00      1.00     23271\n",
      "\n"
     ]
    },
    {
     "data": {
      "image/png": "[encoded data removed]",
      "text/plain": [
       "<Figure size 432x288 with 1 Axes>"
      ]
     },
     "metadata": {
      "needs_background": "light"
     },
     "output_type": "display_data"
    }
   ],
   "source": [
    "print(\"Accuracy:\",metrics.accuracy_score(y_test, y_pred))\n",
    "y_pred = knn.predict(x_test)\n",
    "print(classification_report(y_test,y_pred))\n",
    "plot_roc(y_pred,y_test)"
   ]
  },
  {
   "cell_type": "markdown",
   "metadata": {
    "collapsed": true
   },
   "source": [
    "# NEURAL NETWORKS"
   ]
  },
  {
   "cell_type": "code",
   "execution_count": 37,
   "metadata": {},
   "outputs": [],
   "source": [
    "from tensorflow.keras.models import Sequential\n",
    "from tensorflow.keras.layers import Dense, Activation\n",
    "from tensorflow.keras.callbacks import EarlyStopping\n",
    "from tensorflow.keras.callbacks import ModelCheckpoint\n",
    "from tensorflow.keras.utils import to_categorical"
   ]
  },
  {
   "cell_type": "code",
   "execution_count": 38,
   "metadata": {},
   "outputs": [
    {
     "data": {
      "text/plain": [
       "array([[-0.19677559, -0.10110708, -0.15754166, ..., -0.57966995,\n",
       "        -0.13375044, -0.03881003],\n",
       "       [-0.19677559, -0.10110708, -0.15754166, ..., -0.57966995,\n",
       "        -0.13375044, -0.03881003],\n",
       "       [-0.19677559, -0.10110708, -0.15754166, ..., -0.57966995,\n",
       "        -0.13375044, -0.03881003],\n",
       "       ...,\n",
       "       [-0.19677684, -0.10110708, -0.15754166, ..., -0.57966995,\n",
       "        -0.13375044, -0.03881003],\n",
       "       [-0.19677709, -0.10110708, -0.15754166, ..., -0.57966995,\n",
       "        -0.13375044, -0.03881003],\n",
       "       [-0.19677709, -0.10110708, -0.15754166, ..., -0.57966995,\n",
       "        -0.13375044, -0.03881003]], dtype=float32)"
      ]
     },
     "execution_count": 38,
     "metadata": {},
     "output_type": "execute_result"
    }
   ],
   "source": [
    "x_train.values.astype(np.float32)\n",
    "x_test.values.astype(np.float32)"
   ]
  },
  {
   "cell_type": "code",
   "execution_count": 39,
   "metadata": {},
   "outputs": [],
   "source": [
    "y_train = to_categorical(y_train)             #don't do again and again\n",
    "y_test = to_categorical(y_test)            #don't do again and again"
   ]
  },
  {
   "cell_type": "code",
   "execution_count": 40,
   "metadata": {},
   "outputs": [
    {
     "name": "stdout",
     "output_type": "stream",
     "text": [
      "\n",
      "\n",
      "\n",
      "Model trained for \"adam\" optimizer and \"relu\" activation function : \n",
      "\n",
      "WARNING:tensorflow:Falling back from v2 loop because of error: Failed to find data adapter that can handle input: <class 'pandas.core.frame.DataFrame'>, <class 'NoneType'>\n",
      "Train on 93081 samples, validate on 23271 samples\n",
      "Epoch 1/200\n",
      "93081/93081 - 13s - loss: 0.0084 - val_loss: 0.0021\n",
      "Epoch 2/200\n",
      "93081/93081 - 12s - loss: 0.0044 - val_loss: 0.0014\n",
      "Epoch 3/200\n",
      "93081/93081 - 12s - loss: 6.0805e-04 - val_loss: 0.0014\n",
      "Epoch 4/200\n",
      "93081/93081 - 12s - loss: 7.7143e-04 - val_loss: 0.0025\n",
      "Epoch 5/200\n",
      "93081/93081 - 12s - loss: 0.0027 - val_loss: 0.0014\n",
      "Epoch 6/200\n",
      "93081/93081 - 12s - loss: 0.0026 - val_loss: 0.0014\n",
      "Epoch 00006: early stopping\n",
      "WARNING:tensorflow:Falling back from v2 loop because of error: Failed to find data adapter that can handle input: <class 'pandas.core.frame.DataFrame'>, <class 'NoneType'>\n",
      "\n",
      "Confusion Matrix\n",
      "\n",
      "[[ 5853     0]\n",
      " [    2 17416]]\n"
     ]
    },
    {
     "data": {
      "image/png": "[encoded data removed]",
      "text/plain": [
       "<Figure size 432x288 with 2 Axes>"
      ]
     },
     "metadata": {
      "needs_background": "light"
     },
     "output_type": "display_data"
    },
    {
     "name": "stdout",
     "output_type": "stream",
     "text": [
      "\n",
      "Accuracy\n",
      "\n",
      "Final accuracy: 0.9999140561213528\n",
      "\n",
      "Classification Report\n",
      "\n",
      "              precision    recall  f1-score   support\n",
      "\n",
      "           0       1.00      1.00      1.00      5853\n",
      "           1       1.00      1.00      1.00     17418\n",
      "\n",
      "    accuracy                           1.00     23271\n",
      "   macro avg       1.00      1.00      1.00     23271\n",
      "weighted avg       1.00      1.00      1.00     23271\n",
      "\n",
      "\n",
      "\n",
      "\n",
      "Model trained for \"adam\" optimizer and \"sigmoid\" activation function : \n",
      "\n",
      "WARNING:tensorflow:Falling back from v2 loop because of error: Failed to find data adapter that can handle input: <class 'pandas.core.frame.DataFrame'>, <class 'NoneType'>\n",
      "Train on 93081 samples, validate on 23271 samples\n",
      "Epoch 1/200\n",
      "93081/93081 - 12s - loss: 0.0198 - val_loss: 2.5600e-04\n",
      "Epoch 2/200\n",
      "93081/93081 - 12s - loss: 1.6843e-04 - val_loss: 1.5216e-04\n",
      "Epoch 3/200\n",
      "93081/93081 - 12s - loss: 2.6604e-05 - val_loss: 7.1294e-05\n",
      "Epoch 4/200\n",
      "93081/93081 - 12s - loss: 1.1448e-04 - val_loss: 1.0213e-05\n",
      "Epoch 5/200\n",
      "93081/93081 - 12s - loss: 2.8256e-06 - val_loss: 4.8448e-06\n",
      "Epoch 6/200\n",
      "93081/93081 - 12s - loss: 7.2930e-05 - val_loss: 1.1784e-06\n",
      "Epoch 00006: early stopping\n",
      "WARNING:tensorflow:Falling back from v2 loop because of error: Failed to find data adapter that can handle input: <class 'pandas.core.frame.DataFrame'>, <class 'NoneType'>\n",
      "\n",
      "Confusion Matrix\n",
      "\n",
      "[[ 5853     0]\n",
      " [    0 17418]]\n"
     ]
    },
    {
     "data": {
      "image/png": "[encoded data removed]",
      "text/plain": [
       "<Figure size 432x288 with 2 Axes>"
      ]
     },
     "metadata": {
      "needs_background": "light"
     },
     "output_type": "display_data"
    },
    {
     "name": "stdout",
     "output_type": "stream",
     "text": [
      "\n",
      "Accuracy\n",
      "\n",
      "Final accuracy: 1.0\n",
      "\n",
      "Classification Report\n",
      "\n",
      "              precision    recall  f1-score   support\n",
      "\n",
      "           0       1.00      1.00      1.00      5853\n",
      "           1       1.00      1.00      1.00     17418\n",
      "\n",
      "    accuracy                           1.00     23271\n",
      "   macro avg       1.00      1.00      1.00     23271\n",
      "weighted avg       1.00      1.00      1.00     23271\n",
      "\n",
      "\n",
      "\n",
      "\n",
      "Model trained for \"adam\" optimizer and \"tanh\" activation function : \n",
      "\n",
      "WARNING:tensorflow:Falling back from v2 loop because of error: Failed to find data adapter that can handle input: <class 'pandas.core.frame.DataFrame'>, <class 'NoneType'>\n",
      "Train on 93081 samples, validate on 23271 samples\n",
      "Epoch 1/200\n",
      "93081/93081 - 12s - loss: 0.0061 - val_loss: 3.0714e-04\n",
      "Epoch 2/200\n",
      "93081/93081 - 12s - loss: 2.5797e-04 - val_loss: 3.0554e-04\n",
      "Epoch 3/200\n",
      "93081/93081 - 12s - loss: 1.3632e-04 - val_loss: 1.1950e-04\n",
      "Epoch 4/200\n",
      "93081/93081 - 12s - loss: 2.7482e-04 - val_loss: 1.8802e-04\n",
      "Epoch 5/200\n",
      "93081/93081 - 12s - loss: 1.1707e-04 - val_loss: 6.6003e-05\n",
      "Epoch 6/200\n",
      "93081/93081 - 12s - loss: 2.6873e-04 - val_loss: 3.8358e-05\n",
      "Epoch 00006: early stopping\n",
      "WARNING:tensorflow:Falling back from v2 loop because of error: Failed to find data adapter that can handle input: <class 'pandas.core.frame.DataFrame'>, <class 'NoneType'>\n",
      "\n",
      "Confusion Matrix\n",
      "\n",
      "[[ 5853     0]\n",
      " [    0 17418]]\n"
     ]
    },
    {
     "data": {
      "image/png": "[encoded data removed]",
      "text/plain": [
       "<Figure size 432x288 with 2 Axes>"
      ]
     },
     "metadata": {
      "needs_background": "light"
     },
     "output_type": "display_data"
    },
    {
     "name": "stdout",
     "output_type": "stream",
     "text": [
      "\n",
      "Accuracy\n",
      "\n",
      "Final accuracy: 1.0\n",
      "\n",
      "Classification Report\n",
      "\n",
      "              precision    recall  f1-score   support\n",
      "\n",
      "           0       1.00      1.00      1.00      5853\n",
      "           1       1.00      1.00      1.00     17418\n",
      "\n",
      "    accuracy                           1.00     23271\n",
      "   macro avg       1.00      1.00      1.00     23271\n",
      "weighted avg       1.00      1.00      1.00     23271\n",
      "\n",
      "\n",
      "\n",
      "\n",
      "Model trained for \"sgd\" optimizer and \"relu\" activation function : \n",
      "\n",
      "WARNING:tensorflow:Falling back from v2 loop because of error: Failed to find data adapter that can handle input: <class 'pandas.core.frame.DataFrame'>, <class 'NoneType'>\n",
      "Train on 93081 samples, validate on 23271 samples\n",
      "Epoch 1/200\n",
      "93081/93081 - 14s - loss: 0.0251 - val_loss: 0.0026\n",
      "Epoch 2/200\n",
      "93081/93081 - 11s - loss: 0.0015 - val_loss: 0.0014\n",
      "Epoch 3/200\n",
      "93081/93081 - 11s - loss: 8.8299e-04 - val_loss: 0.0013\n",
      "Epoch 4/200\n",
      "93081/93081 - 11s - loss: 5.1641e-04 - val_loss: 6.2352e-04\n",
      "Epoch 5/200\n",
      "93081/93081 - 11s - loss: 5.7297e-04 - val_loss: 0.0010\n",
      "Epoch 6/200\n",
      "93081/93081 - 11s - loss: 4.5629e-04 - val_loss: 9.4569e-04\n",
      "Epoch 7/200\n",
      "93081/93081 - 12s - loss: 4.0057e-04 - val_loss: 6.1976e-04\n",
      "Epoch 00007: early stopping\n",
      "WARNING:tensorflow:Falling back from v2 loop because of error: Failed to find data adapter that can handle input: <class 'pandas.core.frame.DataFrame'>, <class 'NoneType'>\n",
      "\n",
      "Confusion Matrix\n",
      "\n",
      "[[ 5850     3]\n",
      " [    0 17418]]\n"
     ]
    },
    {
     "data": {
      "image/png": "[encoded data removed]",
      "text/plain": [
       "<Figure size 432x288 with 2 Axes>"
      ]
     },
     "metadata": {
      "needs_background": "light"
     },
     "output_type": "display_data"
    },
    {
     "name": "stdout",
     "output_type": "stream",
     "text": [
      "\n",
      "Accuracy\n",
      "\n",
      "Final accuracy: 0.9998710841820291\n",
      "\n",
      "Classification Report\n",
      "\n",
      "              precision    recall  f1-score   support\n",
      "\n",
      "           0       1.00      1.00      1.00      5853\n",
      "           1       1.00      1.00      1.00     17418\n",
      "\n",
      "    accuracy                           1.00     23271\n",
      "   macro avg       1.00      1.00      1.00     23271\n",
      "weighted avg       1.00      1.00      1.00     23271\n",
      "\n",
      "\n",
      "\n",
      "\n",
      "Model trained for \"sgd\" optimizer and \"sigmoid\" activation function : \n",
      "\n",
      "WARNING:tensorflow:Falling back from v2 loop because of error: Failed to find data adapter that can handle input: <class 'pandas.core.frame.DataFrame'>, <class 'NoneType'>\n",
      "Train on 93081 samples, validate on 23271 samples\n",
      "Epoch 1/200\n",
      "93081/93081 - 12s - loss: 0.2237 - val_loss: 0.0455\n",
      "Epoch 2/200\n",
      "93081/93081 - 11s - loss: 0.0231 - val_loss: 0.0123\n",
      "Epoch 3/200\n",
      "93081/93081 - 11s - loss: 0.0086 - val_loss: 0.0065\n",
      "Epoch 4/200\n",
      "93081/93081 - 11s - loss: 0.0050 - val_loss: 0.0044\n",
      "Epoch 5/200\n",
      "93081/93081 - 11s - loss: 0.0035 - val_loss: 0.0033\n",
      "Epoch 6/200\n",
      "93081/93081 - 11s - loss: 0.0026 - val_loss: 0.0026\n",
      "Epoch 7/200\n",
      "93081/93081 - 11s - loss: 0.0021 - val_loss: 0.0022\n",
      "Epoch 8/200\n",
      "93081/93081 - 11s - loss: 0.0017 - val_loss: 0.0019\n",
      "Epoch 9/200\n",
      "93081/93081 - 11s - loss: 0.0015 - val_loss: 0.0016\n",
      "Epoch 10/200\n",
      "93081/93081 - 11s - loss: 0.0013 - val_loss: 0.0014\n",
      "Epoch 11/200\n",
      "93081/93081 - 11s - loss: 0.0011 - val_loss: 0.0013\n",
      "Epoch 12/200\n",
      "93081/93081 - 11s - loss: 0.0010 - val_loss: 0.0012\n",
      "Epoch 00012: early stopping\n",
      "WARNING:tensorflow:Falling back from v2 loop because of error: Failed to find data adapter that can handle input: <class 'pandas.core.frame.DataFrame'>, <class 'NoneType'>\n",
      "\n",
      "Confusion Matrix\n",
      "\n",
      "[[ 5850     3]\n",
      " [    0 17418]]\n"
     ]
    },
    {
     "data": {
      "image/png": "[encoded data removed]",
      "text/plain": [
       "<Figure size 432x288 with 2 Axes>"
      ]
     },
     "metadata": {
      "needs_background": "light"
     },
     "output_type": "display_data"
    },
    {
     "name": "stdout",
     "output_type": "stream",
     "text": [
      "\n",
      "Accuracy\n",
      "\n",
      "Final accuracy: 0.9998710841820291\n",
      "\n",
      "Classification Report\n",
      "\n",
      "              precision    recall  f1-score   support\n",
      "\n",
      "           0       1.00      1.00      1.00      5853\n",
      "           1       1.00      1.00      1.00     17418\n",
      "\n",
      "    accuracy                           1.00     23271\n",
      "   macro avg       1.00      1.00      1.00     23271\n",
      "weighted avg       1.00      1.00      1.00     23271\n",
      "\n",
      "\n",
      "\n",
      "\n",
      "Model trained for \"sgd\" optimizer and \"tanh\" activation function : \n",
      "\n",
      "WARNING:tensorflow:Falling back from v2 loop because of error: Failed to find data adapter that can handle input: <class 'pandas.core.frame.DataFrame'>, <class 'NoneType'>\n",
      "Train on 93081 samples, validate on 23271 samples\n",
      "Epoch 1/200\n",
      "93081/93081 - 13s - loss: 0.0220 - val_loss: 0.0037\n",
      "Epoch 2/200\n",
      "93081/93081 - 11s - loss: 0.0020 - val_loss: 0.0018\n",
      "Epoch 3/200\n",
      "93081/93081 - 11s - loss: 0.0011 - val_loss: 0.0012\n",
      "Epoch 4/200\n",
      "93081/93081 - 11s - loss: 7.6316e-04 - val_loss: 9.6718e-04\n",
      "Epoch 5/200\n",
      "93081/93081 - 11s - loss: 5.9108e-04 - val_loss: 7.4547e-04\n",
      "Epoch 6/200\n",
      "93081/93081 - 11s - loss: 4.6916e-04 - val_loss: 6.1655e-04\n",
      "Epoch 7/200\n",
      "93081/93081 - 11s - loss: 3.9144e-04 - val_loss: 6.0307e-04\n",
      "Epoch 8/200\n",
      "93081/93081 - 11s - loss: 3.3866e-04 - val_loss: 5.5999e-04\n",
      "Epoch 9/200\n",
      "93081/93081 - 11s - loss: 3.0678e-04 - val_loss: 4.4924e-04\n",
      "Epoch 10/200\n",
      "93081/93081 - 11s - loss: 2.5994e-04 - val_loss: 4.6180e-04\n",
      "Epoch 00010: early stopping\n",
      "WARNING:tensorflow:Falling back from v2 loop because of error: Failed to find data adapter that can handle input: <class 'pandas.core.frame.DataFrame'>, <class 'NoneType'>\n",
      "\n",
      "Confusion Matrix\n",
      "\n",
      "[[ 5850     3]\n",
      " [    0 17418]]\n"
     ]
    },
    {
     "data": {
      "image/png": "[encoded data removed]",
      "text/plain": [
       "<Figure size 432x288 with 2 Axes>"
      ]
     },
     "metadata": {
      "needs_background": "light"
     },
     "output_type": "display_data"
    },
    {
     "name": "stdout",
     "output_type": "stream",
     "text": [
      "\n",
      "Accuracy\n",
      "\n",
      "Final accuracy: 0.9998710841820291\n",
      "\n",
      "Classification Report\n",
      "\n",
      "              precision    recall  f1-score   support\n",
      "\n",
      "           0       1.00      1.00      1.00      5853\n",
      "           1       1.00      1.00      1.00     17418\n",
      "\n",
      "    accuracy                           1.00     23271\n",
      "   macro avg       1.00      1.00      1.00     23271\n",
      "weighted avg       1.00      1.00      1.00     23271\n",
      "\n"
     ]
    }
   ],
   "source": [
    "optimizers = ['adam','sgd']\n",
    "activation_functions = ['relu','sigmoid','tanh']\n",
    "\n",
    "checkpointer = ModelCheckpoint(filepath=\"best_weights_NN.hdf5\", verbose=0, save_best_only=True)\n",
    "\n",
    "for opt in optimizers:\n",
    "    for act in activation_functions:\n",
    "\n",
    "        print(\"\\n\\n\\nModel trained for \\\"{}\\\" optimizer and \\\"{}\\\" activation function : \\n\".format(opt,act))\n",
    "        \n",
    "        model = Sequential()\n",
    "        model.add(Dense(64, input_dim=x_train.shape[1], activation=act))\n",
    "        model.add(Dense(32,activation=act))\n",
    "        model.add(Dense(y_train.shape[1],activation='softmax'))\n",
    "        model.compile(loss='categorical_crossentropy', optimizer=opt)\n",
    "\n",
    "        monitor = EarlyStopping(monitor='val_loss', min_delta=1e-3, patience=5, verbose=1, mode='auto')\n",
    "\n",
    "        model.fit(x_train, y_train,validation_data=(x_test,y_test),callbacks=[monitor,checkpointer],verbose=2,epochs=200)\n",
    "        \n",
    "        pred_n = model.predict(x_test)\n",
    "        pred_n = np.argmax(pred_n,axis=1)\n",
    "        y_true = np.argmax(y_test,axis=1)\n",
    "        score = metrics.accuracy_score(y_true, pred_n)\n",
    "        \n",
    "        print(\"\\nConfusion Matrix\\n\")\n",
    "        cm = confusion_matrix(y_true, pred_n)\n",
    "        print(cm)\n",
    "        plot_confusion_matrix(cm,['0','1'])\n",
    "        \n",
    "        print(\"\\nAccuracy\\n\")\n",
    "        print(\"Final accuracy: {}\".format(score))\n",
    "        \n",
    "        \n",
    "        print(\"\\nClassification Report\\n\")\n",
    "        \n",
    "        print(metrics.classification_report(y_true, pred_n))\n",
    "        model.load_weights('best_weights_NN.hdf5')\n",
    "\n"
   ]
  },
  {
   "cell_type": "markdown",
   "metadata": {},
   "source": [
    "# Feature selection"
   ]
  },
  {
   "cell_type": "code",
   "execution_count": 41,
   "metadata": {},
   "outputs": [],
   "source": [
    "data_f = pd.read_csv(\"df.csv\",na_values=['na','-'])"
   ]
  },
  {
   "cell_type": "code",
   "execution_count": 42,
   "metadata": {},
   "outputs": [],
   "source": [
    "data_f.drop(labels=['id'],axis=1,inplace=True)"
   ]
  },
  {
   "cell_type": "code",
   "execution_count": 43,
   "metadata": {},
   "outputs": [],
   "source": [
    "data_f.dropna(axis=0,inplace=True)\n"
   ]
  },
  {
   "cell_type": "code",
   "execution_count": 44,
   "metadata": {},
   "outputs": [
    {
     "data": {
      "text/plain": [
       "(116352, 44)"
      ]
     },
     "execution_count": 44,
     "metadata": {},
     "output_type": "execute_result"
    }
   ],
   "source": [
    "data_f.shape"
   ]
  },
  {
   "cell_type": "code",
   "execution_count": 45,
   "metadata": {},
   "outputs": [],
   "source": [
    "encode_text_dummy(data_f,'service')\n",
    "encode_text_dummy(data_f,'proto')\n",
    "encode_text_dummy(data_f,'state')\n",
    "encode_text_dummy(data_f,'attack_cat')"
   ]
  },
  {
   "cell_type": "code",
   "execution_count": 46,
   "metadata": {},
   "outputs": [
    {
     "data": {
      "text/plain": [
       "(116352, 69)"
      ]
     },
     "execution_count": 46,
     "metadata": {},
     "output_type": "execute_result"
    }
   ],
   "source": [
    "data_f.shape"
   ]
  },
  {
   "cell_type": "code",
   "execution_count": 47,
   "metadata": {},
   "outputs": [],
   "source": [
    "x = data_f.drop(['label'], axis = 1, inplace=False)\n",
    "y = data_f.loc[:,'label']"
   ]
  },
  {
   "cell_type": "markdown",
   "metadata": {},
   "source": [
    "Corelation Function to find best corelated rows"
   ]
  },
  {
   "cell_type": "code",
   "execution_count": 48,
   "metadata": {},
   "outputs": [],
   "source": [
    "cor = x.corr()"
   ]
  },
  {
   "cell_type": "code",
   "execution_count": 49,
   "metadata": {},
   "outputs": [],
   "source": [
    "columns = np.full((cor.shape[0],), True, dtype=bool)\n",
    "for i in range(cor.shape[0]):\n",
    "    for j in range(i+1, cor.shape[0]):\n",
    "        if cor.iloc[i,j] >= 0.3:\n",
    "            if columns[j]:\n",
    "                columns[j] = False\n",
    "selected_columns = x.columns[columns]\n",
    "x = x[selected_columns]"
   ]
  },
  {
   "cell_type": "code",
   "execution_count": 50,
   "metadata": {},
   "outputs": [
    {
     "data": {
      "text/plain": [
       "(116352, 21)"
      ]
     },
     "execution_count": 50,
     "metadata": {},
     "output_type": "execute_result"
    }
   ],
   "source": [
    "x.shape"
   ]
  },
  {
   "cell_type": "code",
   "execution_count": 51,
   "metadata": {},
   "outputs": [],
   "source": [
    "from sklearn.model_selection import train_test_split\n",
    "x_train, x_test, y_train, y_test = train_test_split(x, y, test_size=0.20, random_state=42)"
   ]
  },
  {
   "cell_type": "code",
   "execution_count": 52,
   "metadata": {},
   "outputs": [
    {
     "name": "stderr",
     "output_type": "stream",
     "text": [
      "C:\\Users\\Prerak\\Anaconda3\\lib\\site-packages\\ipykernel_launcher.py:38: SettingWithCopyWarning: \n",
      "A value is trying to be set on a copy of a slice from a DataFrame.\n",
      "Try using .loc[row_indexer,col_indexer] = value instead\n",
      "\n",
      "See the caveats in the documentation: http://pandas.pydata.org/pandas-docs/stable/user_guide/indexing.html#returning-a-view-versus-a-copy\n",
      "C:\\Users\\Prerak\\Anaconda3\\lib\\site-packages\\ipykernel_launcher.py:38: SettingWithCopyWarning: \n",
      "A value is trying to be set on a copy of a slice from a DataFrame.\n",
      "Try using .loc[row_indexer,col_indexer] = value instead\n",
      "\n",
      "See the caveats in the documentation: http://pandas.pydata.org/pandas-docs/stable/user_guide/indexing.html#returning-a-view-versus-a-copy\n",
      "C:\\Users\\Prerak\\Anaconda3\\lib\\site-packages\\ipykernel_launcher.py:38: SettingWithCopyWarning: \n",
      "A value is trying to be set on a copy of a slice from a DataFrame.\n",
      "Try using .loc[row_indexer,col_indexer] = value instead\n",
      "\n",
      "See the caveats in the documentation: http://pandas.pydata.org/pandas-docs/stable/user_guide/indexing.html#returning-a-view-versus-a-copy\n",
      "C:\\Users\\Prerak\\Anaconda3\\lib\\site-packages\\ipykernel_launcher.py:38: SettingWithCopyWarning: \n",
      "A value is trying to be set on a copy of a slice from a DataFrame.\n",
      "Try using .loc[row_indexer,col_indexer] = value instead\n",
      "\n",
      "See the caveats in the documentation: http://pandas.pydata.org/pandas-docs/stable/user_guide/indexing.html#returning-a-view-versus-a-copy\n",
      "C:\\Users\\Prerak\\Anaconda3\\lib\\site-packages\\ipykernel_launcher.py:38: SettingWithCopyWarning: \n",
      "A value is trying to be set on a copy of a slice from a DataFrame.\n",
      "Try using .loc[row_indexer,col_indexer] = value instead\n",
      "\n",
      "See the caveats in the documentation: http://pandas.pydata.org/pandas-docs/stable/user_guide/indexing.html#returning-a-view-versus-a-copy\n",
      "C:\\Users\\Prerak\\Anaconda3\\lib\\site-packages\\ipykernel_launcher.py:38: SettingWithCopyWarning: \n",
      "A value is trying to be set on a copy of a slice from a DataFrame.\n",
      "Try using .loc[row_indexer,col_indexer] = value instead\n",
      "\n",
      "See the caveats in the documentation: http://pandas.pydata.org/pandas-docs/stable/user_guide/indexing.html#returning-a-view-versus-a-copy\n",
      "C:\\Users\\Prerak\\Anaconda3\\lib\\site-packages\\ipykernel_launcher.py:38: SettingWithCopyWarning: \n",
      "A value is trying to be set on a copy of a slice from a DataFrame.\n",
      "Try using .loc[row_indexer,col_indexer] = value instead\n",
      "\n",
      "See the caveats in the documentation: http://pandas.pydata.org/pandas-docs/stable/user_guide/indexing.html#returning-a-view-versus-a-copy\n",
      "C:\\Users\\Prerak\\Anaconda3\\lib\\site-packages\\ipykernel_launcher.py:38: SettingWithCopyWarning: \n",
      "A value is trying to be set on a copy of a slice from a DataFrame.\n",
      "Try using .loc[row_indexer,col_indexer] = value instead\n",
      "\n",
      "See the caveats in the documentation: http://pandas.pydata.org/pandas-docs/stable/user_guide/indexing.html#returning-a-view-versus-a-copy\n",
      "C:\\Users\\Prerak\\Anaconda3\\lib\\site-packages\\ipykernel_launcher.py:38: SettingWithCopyWarning: \n",
      "A value is trying to be set on a copy of a slice from a DataFrame.\n",
      "Try using .loc[row_indexer,col_indexer] = value instead\n",
      "\n",
      "See the caveats in the documentation: http://pandas.pydata.org/pandas-docs/stable/user_guide/indexing.html#returning-a-view-versus-a-copy\n",
      "C:\\Users\\Prerak\\Anaconda3\\lib\\site-packages\\ipykernel_launcher.py:38: SettingWithCopyWarning: \n",
      "A value is trying to be set on a copy of a slice from a DataFrame.\n",
      "Try using .loc[row_indexer,col_indexer] = value instead\n",
      "\n",
      "See the caveats in the documentation: http://pandas.pydata.org/pandas-docs/stable/user_guide/indexing.html#returning-a-view-versus-a-copy\n",
      "C:\\Users\\Prerak\\Anaconda3\\lib\\site-packages\\ipykernel_launcher.py:38: SettingWithCopyWarning: \n",
      "A value is trying to be set on a copy of a slice from a DataFrame.\n",
      "Try using .loc[row_indexer,col_indexer] = value instead\n",
      "\n",
      "See the caveats in the documentation: http://pandas.pydata.org/pandas-docs/stable/user_guide/indexing.html#returning-a-view-versus-a-copy\n",
      "C:\\Users\\Prerak\\Anaconda3\\lib\\site-packages\\ipykernel_launcher.py:38: SettingWithCopyWarning: \n",
      "A value is trying to be set on a copy of a slice from a DataFrame.\n",
      "Try using .loc[row_indexer,col_indexer] = value instead\n",
      "\n",
      "See the caveats in the documentation: http://pandas.pydata.org/pandas-docs/stable/user_guide/indexing.html#returning-a-view-versus-a-copy\n",
      "C:\\Users\\Prerak\\Anaconda3\\lib\\site-packages\\ipykernel_launcher.py:38: SettingWithCopyWarning: \n",
      "A value is trying to be set on a copy of a slice from a DataFrame.\n",
      "Try using .loc[row_indexer,col_indexer] = value instead\n",
      "\n",
      "See the caveats in the documentation: http://pandas.pydata.org/pandas-docs/stable/user_guide/indexing.html#returning-a-view-versus-a-copy\n",
      "C:\\Users\\Prerak\\Anaconda3\\lib\\site-packages\\ipykernel_launcher.py:38: SettingWithCopyWarning: \n",
      "A value is trying to be set on a copy of a slice from a DataFrame.\n",
      "Try using .loc[row_indexer,col_indexer] = value instead\n",
      "\n",
      "See the caveats in the documentation: http://pandas.pydata.org/pandas-docs/stable/user_guide/indexing.html#returning-a-view-versus-a-copy\n",
      "C:\\Users\\Prerak\\Anaconda3\\lib\\site-packages\\ipykernel_launcher.py:38: SettingWithCopyWarning: \n",
      "A value is trying to be set on a copy of a slice from a DataFrame.\n",
      "Try using .loc[row_indexer,col_indexer] = value instead\n",
      "\n",
      "See the caveats in the documentation: http://pandas.pydata.org/pandas-docs/stable/user_guide/indexing.html#returning-a-view-versus-a-copy\n",
      "C:\\Users\\Prerak\\Anaconda3\\lib\\site-packages\\ipykernel_launcher.py:38: SettingWithCopyWarning: \n",
      "A value is trying to be set on a copy of a slice from a DataFrame.\n",
      "Try using .loc[row_indexer,col_indexer] = value instead\n",
      "\n",
      "See the caveats in the documentation: http://pandas.pydata.org/pandas-docs/stable/user_guide/indexing.html#returning-a-view-versus-a-copy\n",
      "C:\\Users\\Prerak\\Anaconda3\\lib\\site-packages\\ipykernel_launcher.py:38: SettingWithCopyWarning: \n",
      "A value is trying to be set on a copy of a slice from a DataFrame.\n",
      "Try using .loc[row_indexer,col_indexer] = value instead\n",
      "\n",
      "See the caveats in the documentation: http://pandas.pydata.org/pandas-docs/stable/user_guide/indexing.html#returning-a-view-versus-a-copy\n",
      "C:\\Users\\Prerak\\Anaconda3\\lib\\site-packages\\ipykernel_launcher.py:38: SettingWithCopyWarning: \n",
      "A value is trying to be set on a copy of a slice from a DataFrame.\n",
      "Try using .loc[row_indexer,col_indexer] = value instead\n",
      "\n",
      "See the caveats in the documentation: http://pandas.pydata.org/pandas-docs/stable/user_guide/indexing.html#returning-a-view-versus-a-copy\n",
      "C:\\Users\\Prerak\\Anaconda3\\lib\\site-packages\\ipykernel_launcher.py:38: SettingWithCopyWarning: \n",
      "A value is trying to be set on a copy of a slice from a DataFrame.\n",
      "Try using .loc[row_indexer,col_indexer] = value instead\n",
      "\n",
      "See the caveats in the documentation: http://pandas.pydata.org/pandas-docs/stable/user_guide/indexing.html#returning-a-view-versus-a-copy\n",
      "C:\\Users\\Prerak\\Anaconda3\\lib\\site-packages\\ipykernel_launcher.py:38: SettingWithCopyWarning: \n",
      "A value is trying to be set on a copy of a slice from a DataFrame.\n",
      "Try using .loc[row_indexer,col_indexer] = value instead\n",
      "\n",
      "See the caveats in the documentation: http://pandas.pydata.org/pandas-docs/stable/user_guide/indexing.html#returning-a-view-versus-a-copy\n",
      "C:\\Users\\Prerak\\Anaconda3\\lib\\site-packages\\ipykernel_launcher.py:38: SettingWithCopyWarning: \n",
      "A value is trying to be set on a copy of a slice from a DataFrame.\n",
      "Try using .loc[row_indexer,col_indexer] = value instead\n",
      "\n",
      "See the caveats in the documentation: http://pandas.pydata.org/pandas-docs/stable/user_guide/indexing.html#returning-a-view-versus-a-copy\n",
      "C:\\Users\\Prerak\\Anaconda3\\lib\\site-packages\\ipykernel_launcher.py:38: SettingWithCopyWarning: \n",
      "A value is trying to be set on a copy of a slice from a DataFrame.\n",
      "Try using .loc[row_indexer,col_indexer] = value instead\n",
      "\n",
      "See the caveats in the documentation: http://pandas.pydata.org/pandas-docs/stable/user_guide/indexing.html#returning-a-view-versus-a-copy\n",
      "C:\\Users\\Prerak\\Anaconda3\\lib\\site-packages\\ipykernel_launcher.py:38: SettingWithCopyWarning: \n",
      "A value is trying to be set on a copy of a slice from a DataFrame.\n",
      "Try using .loc[row_indexer,col_indexer] = value instead\n",
      "\n",
      "See the caveats in the documentation: http://pandas.pydata.org/pandas-docs/stable/user_guide/indexing.html#returning-a-view-versus-a-copy\n",
      "C:\\Users\\Prerak\\Anaconda3\\lib\\site-packages\\ipykernel_launcher.py:38: SettingWithCopyWarning: \n",
      "A value is trying to be set on a copy of a slice from a DataFrame.\n",
      "Try using .loc[row_indexer,col_indexer] = value instead\n",
      "\n",
      "See the caveats in the documentation: http://pandas.pydata.org/pandas-docs/stable/user_guide/indexing.html#returning-a-view-versus-a-copy\n",
      "C:\\Users\\Prerak\\Anaconda3\\lib\\site-packages\\ipykernel_launcher.py:38: SettingWithCopyWarning: \n",
      "A value is trying to be set on a copy of a slice from a DataFrame.\n",
      "Try using .loc[row_indexer,col_indexer] = value instead\n",
      "\n",
      "See the caveats in the documentation: http://pandas.pydata.org/pandas-docs/stable/user_guide/indexing.html#returning-a-view-versus-a-copy\n"
     ]
    },
    {
     "name": "stderr",
     "output_type": "stream",
     "text": [
      "C:\\Users\\Prerak\\Anaconda3\\lib\\site-packages\\ipykernel_launcher.py:38: SettingWithCopyWarning: \n",
      "A value is trying to be set on a copy of a slice from a DataFrame.\n",
      "Try using .loc[row_indexer,col_indexer] = value instead\n",
      "\n",
      "See the caveats in the documentation: http://pandas.pydata.org/pandas-docs/stable/user_guide/indexing.html#returning-a-view-versus-a-copy\n",
      "C:\\Users\\Prerak\\Anaconda3\\lib\\site-packages\\ipykernel_launcher.py:38: SettingWithCopyWarning: \n",
      "A value is trying to be set on a copy of a slice from a DataFrame.\n",
      "Try using .loc[row_indexer,col_indexer] = value instead\n",
      "\n",
      "See the caveats in the documentation: http://pandas.pydata.org/pandas-docs/stable/user_guide/indexing.html#returning-a-view-versus-a-copy\n",
      "C:\\Users\\Prerak\\Anaconda3\\lib\\site-packages\\ipykernel_launcher.py:38: SettingWithCopyWarning: \n",
      "A value is trying to be set on a copy of a slice from a DataFrame.\n",
      "Try using .loc[row_indexer,col_indexer] = value instead\n",
      "\n",
      "See the caveats in the documentation: http://pandas.pydata.org/pandas-docs/stable/user_guide/indexing.html#returning-a-view-versus-a-copy\n",
      "C:\\Users\\Prerak\\Anaconda3\\lib\\site-packages\\ipykernel_launcher.py:38: SettingWithCopyWarning: \n",
      "A value is trying to be set on a copy of a slice from a DataFrame.\n",
      "Try using .loc[row_indexer,col_indexer] = value instead\n",
      "\n",
      "See the caveats in the documentation: http://pandas.pydata.org/pandas-docs/stable/user_guide/indexing.html#returning-a-view-versus-a-copy\n"
     ]
    }
   ],
   "source": [
    "for column in x_train:\n",
    "    encode_numeric_zscore(x_train, column)\n",
    "    encode_numeric_zscore(x_test, column)"
   ]
  },
  {
   "cell_type": "code",
   "execution_count": 53,
   "metadata": {},
   "outputs": [
    {
     "data": {
      "text/html": [
       "<div>\n",
       "<style scoped>\n",
       "    .dataframe tbody tr th:only-of-type {\n",
       "        vertical-align: middle;\n",
       "    }\n",
       "\n",
       "    .dataframe tbody tr th {\n",
       "        vertical-align: top;\n",
       "    }\n",
       "\n",
       "    .dataframe thead th {\n",
       "        text-align: right;\n",
       "    }\n",
       "</style>\n",
       "<table border=\"1\" class=\"dataframe\">\n",
       "  <thead>\n",
       "    <tr style=\"text-align: right;\">\n",
       "      <th></th>\n",
       "      <th>dur</th>\n",
       "      <th>rate</th>\n",
       "      <th>dttl</th>\n",
       "      <th>dload</th>\n",
       "      <th>trans_depth</th>\n",
       "      <th>is_ftp_login</th>\n",
       "      <th>is_sm_ips_ports</th>\n",
       "      <th>service-dhcp</th>\n",
       "      <th>service-ftp-data</th>\n",
       "      <th>service-irc</th>\n",
       "      <th>...</th>\n",
       "      <th>service-snmp</th>\n",
       "      <th>service-ssh</th>\n",
       "      <th>service-ssl</th>\n",
       "      <th>state-ACC</th>\n",
       "      <th>state-CON</th>\n",
       "      <th>state-RST</th>\n",
       "      <th>attack_cat-Backdoor</th>\n",
       "      <th>attack_cat-DoS</th>\n",
       "      <th>attack_cat-Reconnaissance</th>\n",
       "      <th>attack_cat-Worms</th>\n",
       "    </tr>\n",
       "  </thead>\n",
       "  <tbody>\n",
       "    <tr>\n",
       "      <td>229971</td>\n",
       "      <td>-0.198723</td>\n",
       "      <td>1.351789</td>\n",
       "      <td>-0.712836</td>\n",
       "      <td>-0.215505</td>\n",
       "      <td>-0.193572</td>\n",
       "      <td>-0.164608</td>\n",
       "      <td>NaN</td>\n",
       "      <td>-0.032298</td>\n",
       "      <td>-0.2212</td>\n",
       "      <td>-0.017654</td>\n",
       "      <td>...</td>\n",
       "      <td>-0.031794</td>\n",
       "      <td>-0.115338</td>\n",
       "      <td>-0.026839</td>\n",
       "      <td>NaN</td>\n",
       "      <td>-0.321584</td>\n",
       "      <td>-0.011819</td>\n",
       "      <td>-0.031625</td>\n",
       "      <td>-0.148863</td>\n",
       "      <td>-0.139507</td>\n",
       "      <td>-0.03667</td>\n",
       "    </tr>\n",
       "    <tr>\n",
       "      <td>126958</td>\n",
       "      <td>-0.198721</td>\n",
       "      <td>0.028595</td>\n",
       "      <td>-0.712836</td>\n",
       "      <td>-0.215505</td>\n",
       "      <td>-0.193572</td>\n",
       "      <td>-0.164608</td>\n",
       "      <td>NaN</td>\n",
       "      <td>-0.032298</td>\n",
       "      <td>-0.2212</td>\n",
       "      <td>-0.017654</td>\n",
       "      <td>...</td>\n",
       "      <td>-0.031794</td>\n",
       "      <td>-0.115338</td>\n",
       "      <td>-0.026839</td>\n",
       "      <td>NaN</td>\n",
       "      <td>-0.321584</td>\n",
       "      <td>-0.011819</td>\n",
       "      <td>-0.031625</td>\n",
       "      <td>-0.148863</td>\n",
       "      <td>-0.139507</td>\n",
       "      <td>-0.03667</td>\n",
       "    </tr>\n",
       "    <tr>\n",
       "      <td>119999</td>\n",
       "      <td>-0.198722</td>\n",
       "      <td>0.557873</td>\n",
       "      <td>-0.712836</td>\n",
       "      <td>-0.215505</td>\n",
       "      <td>-0.193572</td>\n",
       "      <td>-0.164608</td>\n",
       "      <td>NaN</td>\n",
       "      <td>-0.032298</td>\n",
       "      <td>-0.2212</td>\n",
       "      <td>-0.017654</td>\n",
       "      <td>...</td>\n",
       "      <td>-0.031794</td>\n",
       "      <td>-0.115338</td>\n",
       "      <td>-0.026839</td>\n",
       "      <td>NaN</td>\n",
       "      <td>-0.321584</td>\n",
       "      <td>-0.011819</td>\n",
       "      <td>-0.031625</td>\n",
       "      <td>-0.148863</td>\n",
       "      <td>-0.139507</td>\n",
       "      <td>-0.03667</td>\n",
       "    </tr>\n",
       "    <tr>\n",
       "      <td>155035</td>\n",
       "      <td>-0.198721</td>\n",
       "      <td>0.028595</td>\n",
       "      <td>-0.712836</td>\n",
       "      <td>-0.215505</td>\n",
       "      <td>-0.193572</td>\n",
       "      <td>-0.164608</td>\n",
       "      <td>NaN</td>\n",
       "      <td>-0.032298</td>\n",
       "      <td>-0.2212</td>\n",
       "      <td>-0.017654</td>\n",
       "      <td>...</td>\n",
       "      <td>-0.031794</td>\n",
       "      <td>-0.115338</td>\n",
       "      <td>-0.026839</td>\n",
       "      <td>NaN</td>\n",
       "      <td>-0.321584</td>\n",
       "      <td>-0.011819</td>\n",
       "      <td>-0.031625</td>\n",
       "      <td>-0.148863</td>\n",
       "      <td>-0.139507</td>\n",
       "      <td>-0.03667</td>\n",
       "    </tr>\n",
       "    <tr>\n",
       "      <td>225964</td>\n",
       "      <td>-0.198721</td>\n",
       "      <td>-0.091695</td>\n",
       "      <td>-0.712836</td>\n",
       "      <td>-0.215505</td>\n",
       "      <td>-0.193572</td>\n",
       "      <td>-0.164608</td>\n",
       "      <td>NaN</td>\n",
       "      <td>-0.032298</td>\n",
       "      <td>-0.2212</td>\n",
       "      <td>-0.017654</td>\n",
       "      <td>...</td>\n",
       "      <td>-0.031794</td>\n",
       "      <td>-0.115338</td>\n",
       "      <td>-0.026839</td>\n",
       "      <td>NaN</td>\n",
       "      <td>-0.321584</td>\n",
       "      <td>-0.011819</td>\n",
       "      <td>-0.031625</td>\n",
       "      <td>-0.148863</td>\n",
       "      <td>-0.139507</td>\n",
       "      <td>-0.03667</td>\n",
       "    </tr>\n",
       "    <tr>\n",
       "      <td>...</td>\n",
       "      <td>...</td>\n",
       "      <td>...</td>\n",
       "      <td>...</td>\n",
       "      <td>...</td>\n",
       "      <td>...</td>\n",
       "      <td>...</td>\n",
       "      <td>...</td>\n",
       "      <td>...</td>\n",
       "      <td>...</td>\n",
       "      <td>...</td>\n",
       "      <td>...</td>\n",
       "      <td>...</td>\n",
       "      <td>...</td>\n",
       "      <td>...</td>\n",
       "      <td>...</td>\n",
       "      <td>...</td>\n",
       "      <td>...</td>\n",
       "      <td>...</td>\n",
       "      <td>...</td>\n",
       "      <td>...</td>\n",
       "      <td>...</td>\n",
       "    </tr>\n",
       "    <tr>\n",
       "      <td>170272</td>\n",
       "      <td>-0.198721</td>\n",
       "      <td>0.028595</td>\n",
       "      <td>-0.712836</td>\n",
       "      <td>-0.215505</td>\n",
       "      <td>-0.193572</td>\n",
       "      <td>-0.164608</td>\n",
       "      <td>NaN</td>\n",
       "      <td>-0.032298</td>\n",
       "      <td>-0.2212</td>\n",
       "      <td>-0.017654</td>\n",
       "      <td>...</td>\n",
       "      <td>-0.031794</td>\n",
       "      <td>-0.115338</td>\n",
       "      <td>-0.026839</td>\n",
       "      <td>NaN</td>\n",
       "      <td>-0.321584</td>\n",
       "      <td>-0.011819</td>\n",
       "      <td>-0.031625</td>\n",
       "      <td>-0.148863</td>\n",
       "      <td>-0.139507</td>\n",
       "      <td>-0.03667</td>\n",
       "    </tr>\n",
       "    <tr>\n",
       "      <td>233053</td>\n",
       "      <td>-0.198721</td>\n",
       "      <td>-0.091695</td>\n",
       "      <td>-0.712836</td>\n",
       "      <td>-0.215505</td>\n",
       "      <td>-0.193572</td>\n",
       "      <td>-0.164608</td>\n",
       "      <td>NaN</td>\n",
       "      <td>-0.032298</td>\n",
       "      <td>-0.2212</td>\n",
       "      <td>-0.017654</td>\n",
       "      <td>...</td>\n",
       "      <td>-0.031794</td>\n",
       "      <td>-0.115338</td>\n",
       "      <td>-0.026839</td>\n",
       "      <td>NaN</td>\n",
       "      <td>-0.321584</td>\n",
       "      <td>-0.011819</td>\n",
       "      <td>-0.031625</td>\n",
       "      <td>-0.148863</td>\n",
       "      <td>-0.139507</td>\n",
       "      <td>-0.03667</td>\n",
       "    </tr>\n",
       "    <tr>\n",
       "      <td>219220</td>\n",
       "      <td>0.571947</td>\n",
       "      <td>-0.632887</td>\n",
       "      <td>1.559504</td>\n",
       "      <td>-0.210209</td>\n",
       "      <td>-0.193572</td>\n",
       "      <td>-0.164608</td>\n",
       "      <td>NaN</td>\n",
       "      <td>-0.032298</td>\n",
       "      <td>-0.2212</td>\n",
       "      <td>-0.017654</td>\n",
       "      <td>...</td>\n",
       "      <td>-0.031794</td>\n",
       "      <td>-0.115338</td>\n",
       "      <td>-0.026839</td>\n",
       "      <td>NaN</td>\n",
       "      <td>-0.321584</td>\n",
       "      <td>-0.011819</td>\n",
       "      <td>-0.031625</td>\n",
       "      <td>-0.148863</td>\n",
       "      <td>-0.139507</td>\n",
       "      <td>-0.03667</td>\n",
       "    </tr>\n",
       "    <tr>\n",
       "      <td>2897</td>\n",
       "      <td>-0.198447</td>\n",
       "      <td>-0.616733</td>\n",
       "      <td>-0.451337</td>\n",
       "      <td>0.447382</td>\n",
       "      <td>-0.193572</td>\n",
       "      <td>-0.164608</td>\n",
       "      <td>NaN</td>\n",
       "      <td>-0.032298</td>\n",
       "      <td>-0.2212</td>\n",
       "      <td>-0.017654</td>\n",
       "      <td>...</td>\n",
       "      <td>-0.031794</td>\n",
       "      <td>-0.115338</td>\n",
       "      <td>-0.026839</td>\n",
       "      <td>NaN</td>\n",
       "      <td>3.109570</td>\n",
       "      <td>-0.011819</td>\n",
       "      <td>-0.031625</td>\n",
       "      <td>-0.148863</td>\n",
       "      <td>-0.139507</td>\n",
       "      <td>-0.03667</td>\n",
       "    </tr>\n",
       "    <tr>\n",
       "      <td>36607</td>\n",
       "      <td>-0.198482</td>\n",
       "      <td>-0.614413</td>\n",
       "      <td>-0.451337</td>\n",
       "      <td>0.541883</td>\n",
       "      <td>-0.193572</td>\n",
       "      <td>-0.164608</td>\n",
       "      <td>NaN</td>\n",
       "      <td>-0.032298</td>\n",
       "      <td>-0.2212</td>\n",
       "      <td>-0.017654</td>\n",
       "      <td>...</td>\n",
       "      <td>-0.031794</td>\n",
       "      <td>-0.115338</td>\n",
       "      <td>-0.026839</td>\n",
       "      <td>NaN</td>\n",
       "      <td>3.109570</td>\n",
       "      <td>-0.011819</td>\n",
       "      <td>-0.031625</td>\n",
       "      <td>-0.148863</td>\n",
       "      <td>-0.139507</td>\n",
       "      <td>-0.03667</td>\n",
       "    </tr>\n",
       "  </tbody>\n",
       "</table>\n",
       "<p>93081 rows × 21 columns</p>\n",
       "</div>"
      ],
      "text/plain": [
       "             dur      rate      dttl     dload  trans_depth  is_ftp_login  \\\n",
       "229971 -0.198723  1.351789 -0.712836 -0.215505    -0.193572     -0.164608   \n",
       "126958 -0.198721  0.028595 -0.712836 -0.215505    -0.193572     -0.164608   \n",
       "119999 -0.198722  0.557873 -0.712836 -0.215505    -0.193572     -0.164608   \n",
       "155035 -0.198721  0.028595 -0.712836 -0.215505    -0.193572     -0.164608   \n",
       "225964 -0.198721 -0.091695 -0.712836 -0.215505    -0.193572     -0.164608   \n",
       "...          ...       ...       ...       ...          ...           ...   \n",
       "170272 -0.198721  0.028595 -0.712836 -0.215505    -0.193572     -0.164608   \n",
       "233053 -0.198721 -0.091695 -0.712836 -0.215505    -0.193572     -0.164608   \n",
       "219220  0.571947 -0.632887  1.559504 -0.210209    -0.193572     -0.164608   \n",
       "2897   -0.198447 -0.616733 -0.451337  0.447382    -0.193572     -0.164608   \n",
       "36607  -0.198482 -0.614413 -0.451337  0.541883    -0.193572     -0.164608   \n",
       "\n",
       "        is_sm_ips_ports  service-dhcp  service-ftp-data  service-irc  ...  \\\n",
       "229971              NaN     -0.032298           -0.2212    -0.017654  ...   \n",
       "126958              NaN     -0.032298           -0.2212    -0.017654  ...   \n",
       "119999              NaN     -0.032298           -0.2212    -0.017654  ...   \n",
       "155035              NaN     -0.032298           -0.2212    -0.017654  ...   \n",
       "225964              NaN     -0.032298           -0.2212    -0.017654  ...   \n",
       "...                 ...           ...               ...          ...  ...   \n",
       "170272              NaN     -0.032298           -0.2212    -0.017654  ...   \n",
       "233053              NaN     -0.032298           -0.2212    -0.017654  ...   \n",
       "219220              NaN     -0.032298           -0.2212    -0.017654  ...   \n",
       "2897                NaN     -0.032298           -0.2212    -0.017654  ...   \n",
       "36607               NaN     -0.032298           -0.2212    -0.017654  ...   \n",
       "\n",
       "        service-snmp  service-ssh  service-ssl  state-ACC  state-CON  \\\n",
       "229971     -0.031794    -0.115338    -0.026839        NaN  -0.321584   \n",
       "126958     -0.031794    -0.115338    -0.026839        NaN  -0.321584   \n",
       "119999     -0.031794    -0.115338    -0.026839        NaN  -0.321584   \n",
       "155035     -0.031794    -0.115338    -0.026839        NaN  -0.321584   \n",
       "225964     -0.031794    -0.115338    -0.026839        NaN  -0.321584   \n",
       "...              ...          ...          ...        ...        ...   \n",
       "170272     -0.031794    -0.115338    -0.026839        NaN  -0.321584   \n",
       "233053     -0.031794    -0.115338    -0.026839        NaN  -0.321584   \n",
       "219220     -0.031794    -0.115338    -0.026839        NaN  -0.321584   \n",
       "2897       -0.031794    -0.115338    -0.026839        NaN   3.109570   \n",
       "36607      -0.031794    -0.115338    -0.026839        NaN   3.109570   \n",
       "\n",
       "        state-RST  attack_cat-Backdoor  attack_cat-DoS  \\\n",
       "229971  -0.011819            -0.031625       -0.148863   \n",
       "126958  -0.011819            -0.031625       -0.148863   \n",
       "119999  -0.011819            -0.031625       -0.148863   \n",
       "155035  -0.011819            -0.031625       -0.148863   \n",
       "225964  -0.011819            -0.031625       -0.148863   \n",
       "...           ...                  ...             ...   \n",
       "170272  -0.011819            -0.031625       -0.148863   \n",
       "233053  -0.011819            -0.031625       -0.148863   \n",
       "219220  -0.011819            -0.031625       -0.148863   \n",
       "2897    -0.011819            -0.031625       -0.148863   \n",
       "36607   -0.011819            -0.031625       -0.148863   \n",
       "\n",
       "        attack_cat-Reconnaissance  attack_cat-Worms  \n",
       "229971                  -0.139507          -0.03667  \n",
       "126958                  -0.139507          -0.03667  \n",
       "119999                  -0.139507          -0.03667  \n",
       "155035                  -0.139507          -0.03667  \n",
       "225964                  -0.139507          -0.03667  \n",
       "...                           ...               ...  \n",
       "170272                  -0.139507          -0.03667  \n",
       "233053                  -0.139507          -0.03667  \n",
       "219220                  -0.139507          -0.03667  \n",
       "2897                    -0.139507          -0.03667  \n",
       "36607                   -0.139507          -0.03667  \n",
       "\n",
       "[93081 rows x 21 columns]"
      ]
     },
     "execution_count": 53,
     "metadata": {},
     "output_type": "execute_result"
    }
   ],
   "source": [
    "x_train"
   ]
  },
  {
   "cell_type": "code",
   "execution_count": 54,
   "metadata": {},
   "outputs": [
    {
     "name": "stderr",
     "output_type": "stream",
     "text": [
      "C:\\Users\\Prerak\\Anaconda3\\lib\\site-packages\\pandas\\core\\frame.py:4102: SettingWithCopyWarning: \n",
      "A value is trying to be set on a copy of a slice from a DataFrame\n",
      "\n",
      "See the caveats in the documentation: http://pandas.pydata.org/pandas-docs/stable/user_guide/indexing.html#returning-a-view-versus-a-copy\n",
      "  errors=errors,\n"
     ]
    }
   ],
   "source": [
    "x_train.drop(labels=['is_sm_ips_ports'],axis=1,inplace=True)\n",
    "x_test.drop(labels=['is_sm_ips_ports'],axis=1,inplace=True)\n",
    "x_train.drop(labels=['state-ACC'],axis=1,inplace=True)\n",
    "x_test.drop(labels=['state-ACC'],axis=1,inplace=True)"
   ]
  },
  {
   "cell_type": "markdown",
   "metadata": {},
   "source": [
    "Logistic Regression"
   ]
  },
  {
   "cell_type": "code",
   "execution_count": 55,
   "metadata": {},
   "outputs": [
    {
     "name": "stderr",
     "output_type": "stream",
     "text": [
      "C:\\Users\\Prerak\\Anaconda3\\lib\\site-packages\\sklearn\\linear_model\\logistic.py:432: FutureWarning: Default solver will be changed to 'lbfgs' in 0.22. Specify a solver to silence this warning.\n",
      "  FutureWarning)\n"
     ]
    },
    {
     "data": {
      "text/plain": [
       "LogisticRegression(C=1.0, class_weight=None, dual=False, fit_intercept=True,\n",
       "                   intercept_scaling=1, l1_ratio=None, max_iter=100,\n",
       "                   multi_class='warn', n_jobs=None, penalty='l2',\n",
       "                   random_state=None, solver='warn', tol=0.0001, verbose=0,\n",
       "                   warm_start=False)"
      ]
     },
     "execution_count": 55,
     "metadata": {},
     "output_type": "execute_result"
    }
   ],
   "source": [
    "from sklearn.linear_model import LogisticRegression\n",
    "from sklearn.metrics import confusion_matrix\n",
    "from sklearn.metrics import classification_report\n",
    "\n",
    "lr=LogisticRegression()\n",
    "lr.fit(x_train,y_train)"
   ]
  },
  {
   "cell_type": "code",
   "execution_count": 56,
   "metadata": {},
   "outputs": [],
   "source": [
    "y_pred = lr.predict(x_test)\n"
   ]
  },
  {
   "cell_type": "code",
   "execution_count": 57,
   "metadata": {},
   "outputs": [
    {
     "name": "stdout",
     "output_type": "stream",
     "text": [
      "[[ 4870   925]\n",
      " [  116 17360]]\n"
     ]
    },
    {
     "data": {
      "image/png": "[encoded data removed]",
      "text/plain": [
       "<Figure size 432x288 with 2 Axes>"
      ]
     },
     "metadata": {
      "needs_background": "light"
     },
     "output_type": "display_data"
    }
   ],
   "source": [
    "cm = confusion_matrix(y_test, y_pred)\n",
    "print(cm)\n",
    "plot_confusion_matrix(cm,['0','1'])"
   ]
  },
  {
   "cell_type": "code",
   "execution_count": 58,
   "metadata": {},
   "outputs": [
    {
     "name": "stdout",
     "output_type": "stream",
     "text": [
      "Accuracy of logistic regression classifier: 0.9552662111641098\n",
      "              precision    recall  f1-score   support\n",
      "\n",
      "           0       0.98      0.84      0.90      5795\n",
      "           1       0.95      0.99      0.97     17476\n",
      "\n",
      "    accuracy                           0.96     23271\n",
      "   macro avg       0.96      0.92      0.94     23271\n",
      "weighted avg       0.96      0.96      0.95     23271\n",
      "\n"
     ]
    }
   ],
   "source": [
    "print('Accuracy of logistic regression classifier: {}'.format(lr.score(x_test, y_test)))\n",
    "print(classification_report(y_test,y_pred))"
   ]
  },
  {
   "cell_type": "code",
   "execution_count": 59,
   "metadata": {},
   "outputs": [
    {
     "data": {
      "image/png": "[encoded data removed]",
      "text/plain": [
       "<Figure size 432x288 with 1 Axes>"
      ]
     },
     "metadata": {
      "needs_background": "light"
     },
     "output_type": "display_data"
    }
   ],
   "source": [
    "plot_roc(y_pred,y_test)"
   ]
  },
  {
   "cell_type": "markdown",
   "metadata": {},
   "source": [
    "SVM"
   ]
  },
  {
   "cell_type": "code",
   "execution_count": 60,
   "metadata": {},
   "outputs": [
    {
     "name": "stderr",
     "output_type": "stream",
     "text": [
      "C:\\Users\\Prerak\\Anaconda3\\lib\\site-packages\\sklearn\\svm\\base.py:193: FutureWarning: The default value of gamma will change from 'auto' to 'scale' in version 0.22 to account better for unscaled features. Set gamma explicitly to 'auto' or 'scale' to avoid this warning.\n",
      "  \"avoid this warning.\", FutureWarning)\n"
     ]
    }
   ],
   "source": [
    "from sklearn.svm import SVC\n",
    "svm_object = SVC(kernel = 'rbf')\n",
    "svm_object.fit(x_train, y_train)\n",
    "y_pred = svm_object.predict(x_test)"
   ]
  },
  {
   "cell_type": "code",
   "execution_count": 61,
   "metadata": {},
   "outputs": [
    {
     "name": "stdout",
     "output_type": "stream",
     "text": [
      "[[ 4884   911]\n",
      " [   34 17442]]\n"
     ]
    },
    {
     "data": {
      "image/png": "[encoded data removed]",
      "text/plain": [
       "<Figure size 432x288 with 2 Axes>"
      ]
     },
     "metadata": {
      "needs_background": "light"
     },
     "output_type": "display_data"
    }
   ],
   "source": [
    "cm = confusion_matrix(y_test,y_pred)\n",
    "print(cm)\n",
    "plot_confusion_matrix(cm,['0','1'])"
   ]
  },
  {
   "cell_type": "code",
   "execution_count": 62,
   "metadata": {},
   "outputs": [
    {
     "name": "stdout",
     "output_type": "stream",
     "text": [
      "Accuracy: 0.9593915173391775\n",
      "              precision    recall  f1-score   support\n",
      "\n",
      "           0       0.99      0.84      0.91      5795\n",
      "           1       0.95      1.00      0.97     17476\n",
      "\n",
      "    accuracy                           0.96     23271\n",
      "   macro avg       0.97      0.92      0.94     23271\n",
      "weighted avg       0.96      0.96      0.96     23271\n",
      "\n"
     ]
    }
   ],
   "source": [
    "print(\"Accuracy:\",metrics.accuracy_score(y_test, y_pred))\n",
    "print(classification_report(y_test,y_pred))"
   ]
  },
  {
   "cell_type": "code",
   "execution_count": 63,
   "metadata": {},
   "outputs": [
    {
     "data": {
      "image/png": "[encoded data removed]",
      "text/plain": [
       "<Figure size 432x288 with 1 Axes>"
      ]
     },
     "metadata": {
      "needs_background": "light"
     },
     "output_type": "display_data"
    }
   ],
   "source": [
    "plot_roc(y_pred,y_test)"
   ]
  },
  {
   "cell_type": "markdown",
   "metadata": {},
   "source": [
    "KNN(5-neighbors)"
   ]
  },
  {
   "cell_type": "code",
   "execution_count": 64,
   "metadata": {},
   "outputs": [
    {
     "data": {
      "text/plain": [
       "KNeighborsClassifier(algorithm='auto', leaf_size=30, metric='minkowski',\n",
       "                     metric_params=None, n_jobs=None, n_neighbors=5, p=2,\n",
       "                     weights='uniform')"
      ]
     },
     "execution_count": 64,
     "metadata": {},
     "output_type": "execute_result"
    }
   ],
   "source": [
    "from sklearn.neighbors import KNeighborsClassifier\n",
    "knn = KNeighborsClassifier(n_neighbors=5)\n",
    "knn.fit(x_train, y_train)"
   ]
  },
  {
   "cell_type": "code",
   "execution_count": 65,
   "metadata": {},
   "outputs": [
    {
     "name": "stdout",
     "output_type": "stream",
     "text": [
      "[[ 4884   911]\n",
      " [   34 17442]]\n"
     ]
    },
    {
     "data": {
      "image/png": "[encoded data removed]",
      "text/plain": [
       "<Figure size 432x288 with 2 Axes>"
      ]
     },
     "metadata": {
      "needs_background": "light"
     },
     "output_type": "display_data"
    }
   ],
   "source": [
    "cm = confusion_matrix(y_test,y_pred)\n",
    "print(cm)\n",
    "plot_confusion_matrix(cm,['0','1'])"
   ]
  },
  {
   "cell_type": "code",
   "execution_count": 66,
   "metadata": {},
   "outputs": [
    {
     "name": "stdout",
     "output_type": "stream",
     "text": [
      "Accuracy: 0.9593915173391775\n",
      "              precision    recall  f1-score   support\n",
      "\n",
      "           0       0.98      0.85      0.91      5795\n",
      "           1       0.95      0.99      0.97     17476\n",
      "\n",
      "    accuracy                           0.96     23271\n",
      "   macro avg       0.96      0.92      0.94     23271\n",
      "weighted avg       0.96      0.96      0.96     23271\n",
      "\n"
     ]
    },
    {
     "data": {
      "image/png": "[encoded data removed]",
      "text/plain": [
       "<Figure size 432x288 with 1 Axes>"
      ]
     },
     "metadata": {
      "needs_background": "light"
     },
     "output_type": "display_data"
    }
   ],
   "source": [
    "print(\"Accuracy:\",metrics.accuracy_score(y_test, y_pred))\n",
    "y_pred = knn.predict(x_test)\n",
    "print(classification_report(y_test,y_pred))\n",
    "plot_roc(y_pred,y_test)"
   ]
  },
  {
   "cell_type": "markdown",
   "metadata": {},
   "source": [
    "Neural Networks"
   ]
  },
  {
   "cell_type": "code",
   "execution_count": 67,
   "metadata": {},
   "outputs": [],
   "source": [
    "from tensorflow.keras.models import Sequential\n",
    "from tensorflow.keras.layers import Dense, Activation\n",
    "from tensorflow.keras.callbacks import EarlyStopping\n",
    "from tensorflow.keras.callbacks import ModelCheckpoint\n",
    "from tensorflow.keras.utils import to_categorical"
   ]
  },
  {
   "cell_type": "code",
   "execution_count": 68,
   "metadata": {},
   "outputs": [
    {
     "data": {
      "text/plain": [
       "array([[-0.1950589 ,  0.02104987, -0.7100769 , ..., -0.14665684,\n",
       "        -0.13720419, -0.03145298],\n",
       "       [ 0.06225858, -0.63170284,  1.564549  , ..., -0.14665684,\n",
       "        -0.13720419, -0.03145298],\n",
       "       [ 1.857811  , -0.6317741 ,  1.564549  , ..., -0.14665684,\n",
       "        -0.13720419, -0.03145298],\n",
       "       ...,\n",
       "       [-0.05459858, -0.63163805,  1.564549  , ..., -0.14665684,\n",
       "        -0.13720419, -0.03145298],\n",
       "       [-0.19505914,  0.10265666, -0.7100769 , ..., -0.14665684,\n",
       "        -0.13720419, -0.03145298],\n",
       "       [-0.12719716, -0.6314198 , -0.44831443, ..., -0.14665684,\n",
       "        -0.13720419, -0.03145298]], dtype=float32)"
      ]
     },
     "execution_count": 68,
     "metadata": {},
     "output_type": "execute_result"
    }
   ],
   "source": [
    "x_train.values.astype(np.float32)\n",
    "x_test.values.astype(np.float32)"
   ]
  },
  {
   "cell_type": "code",
   "execution_count": 69,
   "metadata": {},
   "outputs": [],
   "source": [
    "y_train = to_categorical(y_train)             #don't do again and again\n",
    "y_test = to_categorical(y_test)            #don't do again and again"
   ]
  },
  {
   "cell_type": "code",
   "execution_count": 70,
   "metadata": {},
   "outputs": [
    {
     "name": "stdout",
     "output_type": "stream",
     "text": [
      "\n",
      "\n",
      "\n",
      "Model trained for \"adam\" optimizer and \"relu\" activation function : \n",
      "\n",
      "WARNING:tensorflow:Falling back from v2 loop because of error: Failed to find data adapter that can handle input: <class 'pandas.core.frame.DataFrame'>, <class 'NoneType'>\n",
      "Train on 93081 samples, validate on 23271 samples\n",
      "Epoch 1/200\n",
      "93081/93081 - 12s - loss: 0.1177 - val_loss: 0.1171\n",
      "Epoch 2/200\n",
      "93081/93081 - 12s - loss: 0.0989 - val_loss: 0.1049\n",
      "Epoch 3/200\n",
      "93081/93081 - 13s - loss: 0.0965 - val_loss: 0.1106\n",
      "Epoch 4/200\n",
      "93081/93081 - 12s - loss: 0.0952 - val_loss: 0.1217\n",
      "Epoch 5/200\n",
      "93081/93081 - 12s - loss: 0.0944 - val_loss: 0.1402\n",
      "Epoch 6/200\n",
      "93081/93081 - 12s - loss: 0.0944 - val_loss: 0.1315\n",
      "Epoch 7/200\n",
      "93081/93081 - 12s - loss: 0.0936 - val_loss: 0.1244\n",
      "Epoch 00007: early stopping\n",
      "WARNING:tensorflow:Falling back from v2 loop because of error: Failed to find data adapter that can handle input: <class 'pandas.core.frame.DataFrame'>, <class 'NoneType'>\n",
      "\n",
      "Confusion Matrix\n",
      "\n",
      "[[ 4877   918]\n",
      " [   32 17444]]\n"
     ]
    },
    {
     "data": {
      "image/png": "[encoded data removed]",
      "text/plain": [
       "<Figure size 432x288 with 2 Axes>"
      ]
     },
     "metadata": {
      "needs_background": "light"
     },
     "output_type": "display_data"
    },
    {
     "name": "stdout",
     "output_type": "stream",
     "text": [
      "\n",
      "Accuracy\n",
      "\n",
      "Final accuracy: 0.9591766576425594\n",
      "\n",
      "Classification Report\n",
      "\n",
      "              precision    recall  f1-score   support\n",
      "\n",
      "           0       0.99      0.84      0.91      5795\n",
      "           1       0.95      1.00      0.97     17476\n",
      "\n",
      "    accuracy                           0.96     23271\n",
      "   macro avg       0.97      0.92      0.94     23271\n",
      "weighted avg       0.96      0.96      0.96     23271\n",
      "\n",
      "\n",
      "\n",
      "\n",
      "Model trained for \"adam\" optimizer and \"sigmoid\" activation function : \n",
      "\n",
      "WARNING:tensorflow:Falling back from v2 loop because of error: Failed to find data adapter that can handle input: <class 'pandas.core.frame.DataFrame'>, <class 'NoneType'>\n",
      "Train on 93081 samples, validate on 23271 samples\n",
      "Epoch 1/200\n",
      "93081/93081 - 12s - loss: 0.1756 - val_loss: 0.2415\n",
      "Epoch 2/200\n",
      "93081/93081 - 12s - loss: 0.1227 - val_loss: 0.1245\n",
      "Epoch 3/200\n",
      "93081/93081 - 11s - loss: 0.1154 - val_loss: 0.1283\n",
      "Epoch 4/200\n",
      "93081/93081 - 11s - loss: 0.1106 - val_loss: 0.1205\n",
      "Epoch 5/200\n",
      "93081/93081 - 11s - loss: 0.1070 - val_loss: 0.1054\n",
      "Epoch 6/200\n",
      "93081/93081 - 11s - loss: 0.1051 - val_loss: 0.1203\n",
      "Epoch 7/200\n",
      "93081/93081 - 11s - loss: 0.1038 - val_loss: 0.1063\n",
      "Epoch 8/200\n",
      "93081/93081 - 12s - loss: 0.1020 - val_loss: 0.1052\n",
      "Epoch 9/200\n",
      "93081/93081 - 11s - loss: 0.1008 - val_loss: 0.1091\n",
      "Epoch 10/200\n",
      "93081/93081 - 11s - loss: 0.0990 - val_loss: 0.1059\n",
      "Epoch 00010: early stopping\n",
      "WARNING:tensorflow:Falling back from v2 loop because of error: Failed to find data adapter that can handle input: <class 'pandas.core.frame.DataFrame'>, <class 'NoneType'>\n",
      "\n",
      "Confusion Matrix\n",
      "\n",
      "[[ 5017   778]\n",
      " [  318 17158]]\n"
     ]
    },
    {
     "data": {
      "image/png": "[encoded data removed]",
      "text/plain": [
       "<Figure size 432x288 with 2 Axes>"
      ]
     },
     "metadata": {
      "needs_background": "light"
     },
     "output_type": "display_data"
    },
    {
     "name": "stdout",
     "output_type": "stream",
     "text": [
      "\n",
      "Accuracy\n",
      "\n",
      "Final accuracy: 0.9529027545013107\n",
      "\n",
      "Classification Report\n",
      "\n",
      "              precision    recall  f1-score   support\n",
      "\n",
      "           0       0.94      0.87      0.90      5795\n",
      "           1       0.96      0.98      0.97     17476\n",
      "\n",
      "    accuracy                           0.95     23271\n",
      "   macro avg       0.95      0.92      0.94     23271\n",
      "weighted avg       0.95      0.95      0.95     23271\n",
      "\n",
      "\n",
      "\n",
      "\n",
      "Model trained for \"adam\" optimizer and \"tanh\" activation function : \n",
      "\n",
      "WARNING:tensorflow:Falling back from v2 loop because of error: Failed to find data adapter that can handle input: <class 'pandas.core.frame.DataFrame'>, <class 'NoneType'>\n",
      "Train on 93081 samples, validate on 23271 samples\n",
      "Epoch 1/200\n",
      "93081/93081 - 12s - loss: 0.1251 - val_loss: 0.1150\n",
      "Epoch 2/200\n",
      "93081/93081 - 11s - loss: 0.1035 - val_loss: 0.1094\n",
      "Epoch 3/200\n",
      "93081/93081 - 12s - loss: 0.0965 - val_loss: 0.0976\n",
      "Epoch 4/200\n",
      "93081/93081 - 11s - loss: 0.0932 - val_loss: 0.1055\n",
      "Epoch 5/200\n",
      "93081/93081 - 11s - loss: 0.0915 - val_loss: 0.1089\n",
      "Epoch 6/200\n",
      "93081/93081 - 11s - loss: 0.0909 - val_loss: 0.1190\n",
      "Epoch 7/200\n",
      "93081/93081 - 12s - loss: 0.0904 - val_loss: 0.1087\n",
      "Epoch 8/200\n",
      "93081/93081 - 11s - loss: 0.0895 - val_loss: 0.1068\n",
      "Epoch 00008: early stopping\n",
      "WARNING:tensorflow:Falling back from v2 loop because of error: Failed to find data adapter that can handle input: <class 'pandas.core.frame.DataFrame'>, <class 'NoneType'>\n",
      "\n",
      "Confusion Matrix\n",
      "\n",
      "[[ 4889   906]\n",
      " [   51 17425]]\n"
     ]
    },
    {
     "data": {
      "image/png": "[encoded data removed]",
      "text/plain": [
       "<Figure size 432x288 with 2 Axes>"
      ]
     },
     "metadata": {
      "needs_background": "light"
     },
     "output_type": "display_data"
    },
    {
     "name": "stdout",
     "output_type": "stream",
     "text": [
      "\n",
      "Accuracy\n",
      "\n",
      "Final accuracy: 0.958875854067294\n",
      "\n",
      "Classification Report\n",
      "\n",
      "              precision    recall  f1-score   support\n",
      "\n",
      "           0       0.99      0.84      0.91      5795\n",
      "           1       0.95      1.00      0.97     17476\n",
      "\n",
      "    accuracy                           0.96     23271\n",
      "   macro avg       0.97      0.92      0.94     23271\n",
      "weighted avg       0.96      0.96      0.96     23271\n",
      "\n",
      "\n",
      "\n",
      "\n",
      "Model trained for \"sgd\" optimizer and \"relu\" activation function : \n",
      "\n",
      "WARNING:tensorflow:Falling back from v2 loop because of error: Failed to find data adapter that can handle input: <class 'pandas.core.frame.DataFrame'>, <class 'NoneType'>\n",
      "Train on 93081 samples, validate on 23271 samples\n",
      "Epoch 1/200\n",
      "93081/93081 - 12s - loss: 0.1744 - val_loss: 0.1332\n",
      "Epoch 2/200\n",
      "93081/93081 - 11s - loss: 0.1166 - val_loss: 0.1406\n",
      "Epoch 3/200\n",
      "93081/93081 - 11s - loss: 0.1115 - val_loss: 0.1331\n",
      "Epoch 4/200\n",
      "93081/93081 - 11s - loss: 0.1095 - val_loss: 0.1210\n",
      "Epoch 5/200\n",
      "93081/93081 - 11s - loss: 0.1080 - val_loss: 0.1253\n",
      "Epoch 6/200\n",
      "93081/93081 - 11s - loss: 0.1069 - val_loss: 0.1115\n",
      "Epoch 7/200\n",
      "93081/93081 - 11s - loss: 0.1061 - val_loss: 0.1101\n",
      "Epoch 8/200\n",
      "93081/93081 - 11s - loss: 0.1053 - val_loss: 0.1114\n",
      "Epoch 9/200\n",
      "93081/93081 - 11s - loss: 0.1046 - val_loss: 0.1126\n",
      "Epoch 10/200\n",
      "93081/93081 - 11s - loss: 0.1039 - val_loss: 0.1061\n",
      "Epoch 11/200\n",
      "93081/93081 - 11s - loss: 0.1035 - val_loss: 0.1057\n",
      "Epoch 12/200\n",
      "93081/93081 - 11s - loss: 0.1028 - val_loss: 0.1053\n",
      "Epoch 13/200\n",
      "93081/93081 - 11s - loss: 0.1016 - val_loss: 0.1126\n",
      "Epoch 14/200\n",
      "93081/93081 - 11s - loss: 0.1005 - val_loss: 0.1054\n",
      "Epoch 15/200\n",
      "93081/93081 - 11s - loss: 0.0999 - val_loss: 0.1063\n",
      "Epoch 00015: early stopping\n",
      "WARNING:tensorflow:Falling back from v2 loop because of error: Failed to find data adapter that can handle input: <class 'pandas.core.frame.DataFrame'>, <class 'NoneType'>\n",
      "\n",
      "Confusion Matrix\n",
      "\n",
      "[[ 4898   897]\n",
      " [   81 17395]]\n"
     ]
    },
    {
     "data": {
      "image/png": "[encoded data removed]",
      "text/plain": [
       "<Figure size 432x288 with 2 Axes>"
      ]
     },
     "metadata": {
      "needs_background": "light"
     },
     "output_type": "display_data"
    },
    {
     "name": "stdout",
     "output_type": "stream",
     "text": [
      "\n",
      "Accuracy\n",
      "\n",
      "Final accuracy: 0.957973443341498\n",
      "\n",
      "Classification Report\n",
      "\n",
      "              precision    recall  f1-score   support\n",
      "\n",
      "           0       0.98      0.85      0.91      5795\n",
      "           1       0.95      1.00      0.97     17476\n",
      "\n",
      "    accuracy                           0.96     23271\n",
      "   macro avg       0.97      0.92      0.94     23271\n",
      "weighted avg       0.96      0.96      0.96     23271\n",
      "\n",
      "\n",
      "\n",
      "\n",
      "Model trained for \"sgd\" optimizer and \"sigmoid\" activation function : \n",
      "\n",
      "WARNING:tensorflow:Falling back from v2 loop because of error: Failed to find data adapter that can handle input: <class 'pandas.core.frame.DataFrame'>, <class 'NoneType'>\n",
      "Train on 93081 samples, validate on 23271 samples\n",
      "Epoch 1/200\n",
      "93081/93081 - 11s - loss: 0.4876 - val_loss: 0.3682\n",
      "Epoch 2/200\n",
      "93081/93081 - 11s - loss: 0.2956 - val_loss: 0.2277\n",
      "Epoch 3/200\n",
      "93081/93081 - 11s - loss: 0.2126 - val_loss: 0.2265\n",
      "Epoch 4/200\n",
      "93081/93081 - 11s - loss: 0.1766 - val_loss: 0.2743\n",
      "Epoch 5/200\n",
      "93081/93081 - 11s - loss: 0.1616 - val_loss: 0.2890\n",
      "Epoch 6/200\n",
      "93081/93081 - 11s - loss: 0.1530 - val_loss: 0.3116\n",
      "Epoch 7/200\n",
      "93081/93081 - 11s - loss: 0.1467 - val_loss: 0.3117\n",
      "Epoch 8/200\n",
      "93081/93081 - 11s - loss: 0.1417 - val_loss: 0.2873\n",
      "Epoch 00008: early stopping\n",
      "WARNING:tensorflow:Falling back from v2 loop because of error: Failed to find data adapter that can handle input: <class 'pandas.core.frame.DataFrame'>, <class 'NoneType'>\n",
      "\n",
      "Confusion Matrix\n",
      "\n",
      "[[ 5366   429]\n",
      " [ 2434 15042]]\n"
     ]
    },
    {
     "data": {
      "image/png": "[encoded data removed]",
      "text/plain": [
       "<Figure size 432x288 with 2 Axes>"
      ]
     },
     "metadata": {
      "needs_background": "light"
     },
     "output_type": "display_data"
    },
    {
     "name": "stdout",
     "output_type": "stream",
     "text": [
      "\n",
      "Accuracy\n",
      "\n",
      "Final accuracy: 0.8769713377164712\n",
      "\n",
      "Classification Report\n",
      "\n",
      "              precision    recall  f1-score   support\n",
      "\n",
      "           0       0.69      0.93      0.79      5795\n",
      "           1       0.97      0.86      0.91     17476\n",
      "\n",
      "    accuracy                           0.88     23271\n",
      "   macro avg       0.83      0.89      0.85     23271\n",
      "weighted avg       0.90      0.88      0.88     23271\n",
      "\n",
      "\n",
      "\n",
      "\n",
      "Model trained for \"sgd\" optimizer and \"tanh\" activation function : \n",
      "\n",
      "WARNING:tensorflow:Falling back from v2 loop because of error: Failed to find data adapter that can handle input: <class 'pandas.core.frame.DataFrame'>, <class 'NoneType'>\n",
      "Train on 93081 samples, validate on 23271 samples\n",
      "Epoch 1/200\n",
      "93081/93081 - 11s - loss: 0.1791 - val_loss: 0.2054\n",
      "Epoch 2/200\n",
      "93081/93081 - 11s - loss: 0.1223 - val_loss: 0.1515\n",
      "Epoch 3/200\n",
      "93081/93081 - 12s - loss: 0.1161 - val_loss: 0.1370\n",
      "Epoch 4/200\n",
      "93081/93081 - 11s - loss: 0.1133 - val_loss: 0.1297\n",
      "Epoch 5/200\n",
      "93081/93081 - 12s - loss: 0.1115 - val_loss: 0.1181\n",
      "Epoch 6/200\n",
      "93081/93081 - 11s - loss: 0.1102 - val_loss: 0.1247\n",
      "Epoch 7/200\n",
      "93081/93081 - 11s - loss: 0.1088 - val_loss: 0.1253\n",
      "Epoch 8/200\n",
      "93081/93081 - 11s - loss: 0.1081 - val_loss: 0.1229\n",
      "Epoch 9/200\n",
      "93081/93081 - 11s - loss: 0.1073 - val_loss: 0.1204\n",
      "Epoch 10/200\n",
      "93081/93081 - 11s - loss: 0.1065 - val_loss: 0.1175\n",
      "Epoch 00010: early stopping\n",
      "WARNING:tensorflow:Falling back from v2 loop because of error: Failed to find data adapter that can handle input: <class 'pandas.core.frame.DataFrame'>, <class 'NoneType'>\n",
      "\n",
      "Confusion Matrix\n",
      "\n",
      "[[ 4884   911]\n",
      " [   66 17410]]\n"
     ]
    },
    {
     "data": {
      "image/png": "[encoded data removed]",
      "text/plain": [
       "<Figure size 432x288 with 2 Axes>"
      ]
     },
     "metadata": {
      "needs_background": "light"
     },
     "output_type": "display_data"
    },
    {
     "name": "stdout",
     "output_type": "stream",
     "text": [
      "\n",
      "Accuracy\n",
      "\n",
      "Final accuracy: 0.9580164152808216\n",
      "\n",
      "Classification Report\n",
      "\n",
      "              precision    recall  f1-score   support\n",
      "\n",
      "           0       0.99      0.84      0.91      5795\n",
      "           1       0.95      1.00      0.97     17476\n",
      "\n",
      "    accuracy                           0.96     23271\n",
      "   macro avg       0.97      0.92      0.94     23271\n",
      "weighted avg       0.96      0.96      0.96     23271\n",
      "\n"
     ]
    }
   ],
   "source": [
    "optimizers = ['adam','sgd']\n",
    "activation_functions = ['relu','sigmoid','tanh']\n",
    "\n",
    "checkpointer = ModelCheckpoint(filepath=\"best_weights_NN_best.hdf5\", verbose=0, save_best_only=True)\n",
    "\n",
    "for opt in optimizers:\n",
    "    for act in activation_functions:\n",
    "\n",
    "        print(\"\\n\\n\\nModel trained for \\\"{}\\\" optimizer and \\\"{}\\\" activation function : \\n\".format(opt,act))\n",
    "        \n",
    "        model = Sequential()\n",
    "        model.add(Dense(64, input_dim=x_train.shape[1], activation=act))\n",
    "        model.add(Dense(32,activation=act))\n",
    "        model.add(Dense(y_train.shape[1],activation='softmax'))\n",
    "        model.compile(loss='categorical_crossentropy', optimizer=opt)\n",
    "\n",
    "        monitor = EarlyStopping(monitor='val_loss', min_delta=1e-3, patience=5, verbose=1, mode='auto')\n",
    "\n",
    "        model.fit(x_train, y_train,validation_data=(x_test,y_test),callbacks=[monitor,checkpointer],verbose=2,epochs=200)\n",
    "        \n",
    "        pred_n = model.predict(x_test)\n",
    "        pred_n = np.argmax(pred_n,axis=1)\n",
    "        y_true = np.argmax(y_test,axis=1)\n",
    "        score = metrics.accuracy_score(y_true, pred_n)\n",
    "        \n",
    "        print(\"\\nConfusion Matrix\\n\")\n",
    "        cm = confusion_matrix(y_true, pred_n)\n",
    "        print(cm)\n",
    "        plot_confusion_matrix(cm,['0','1'])\n",
    "        \n",
    "        print(\"\\nAccuracy\\n\")\n",
    "        print(\"Final accuracy: {}\".format(score))\n",
    "        \n",
    "        \n",
    "        print(\"\\nClassification Report\\n\")\n",
    "        \n",
    "        print(metrics.classification_report(y_true, pred_n))\n",
    "        model.load_weights('best_weights_NN_best.hdf5')"
   ]
  }
 ],
 "metadata": {
  "kernelspec": {
   "display_name": "Python 3",
   "language": "python",
   "name": "python3"
  },
  "language_info": {
   "codemirror_mode": {
    "name": "ipython",
    "version": 3
   },
   "file_extension": ".py",
   "mimetype": "text/x-python",
   "name": "python",
   "nbconvert_exporter": "python",
   "pygments_lexer": "ipython3",
   "version": "3.7.4"
  }
 },
 "nbformat": 4,
 "nbformat_minor": 2
}
